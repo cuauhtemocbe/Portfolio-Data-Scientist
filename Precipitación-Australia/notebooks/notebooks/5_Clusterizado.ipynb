{
 "cells": [
  {
   "cell_type": "markdown",
   "id": "fd9c74f9-3a6a-4e1a-a169-edaac115c054",
   "metadata": {},
   "source": [
    "# Clusterización"
   ]
  },
  {
   "cell_type": "code",
   "execution_count": 3,
   "id": "14d09a1b-e505-4a34-af35-8a0314fcfb84",
   "metadata": {},
   "outputs": [
    {
     "name": "stderr",
     "output_type": "stream",
     "text": [
      "[NbConvertApp] Converting notebook 5_Clusterizado.ipynb to html\n",
      "[NbConvertApp] Writing 658238 bytes to 5_Clusterizado.html\n"
     ]
    }
   ],
   "source": [
    "! jupyter nbconvert --to html 5_Clusterizado.ipynb"
   ]
  },
  {
   "cell_type": "code",
   "execution_count": 4,
   "id": "b9caadd9-4f88-44bb-abf7-9d1ff05b198a",
   "metadata": {},
   "outputs": [],
   "source": [
    "import missingno as msno\n",
    "import pandas as pd\n",
    "import numpy as np\n",
    "import matplotlib.pyplot as plt\n",
    "import seaborn as sns\n",
    "from sklearn.model_selection import train_test_split\n",
    "from typing import Tuple\n",
    "\n",
    "%matplotlib inline\n",
    "\n",
    "pd.set_option('display.max_columns', None)\n",
    "pd.options.mode.chained_assignment = None  # default='warn'\n",
    "from IPython.display import display\n",
    "\n",
    "import os\n",
    "import sys\n",
    "\n",
    "# Agregar mi librería personalizada de python\n",
    "module_path = os.path.abspath(os.path.join(os.getcwd().replace('notebooks', 'src')))\n",
    "if module_path not in sys.path:\n",
    "    sys.path.append(module_path)\n",
    "    \n",
    "import rain\n",
    "import importlib\n",
    "\n",
    "def reload():\n",
    "    \"\"\"\" Used to reload the modules\"\"\"\n",
    "    libs_list = [rain]\n",
    "    for lib in libs_list:\n",
    "        importlib.reload(lib)\n",
    "\n",
    "    print(\"Reload complete\")"
   ]
  },
  {
   "cell_type": "markdown",
   "id": "96aebcd0-bda3-40a9-8e45-90db52d25f1c",
   "metadata": {},
   "source": [
    "Con el objetivo de desarrollar un modelo regional, desarrollaré un algoritmo que permita agrupar las ciudades con las características más parecidas"
   ]
  },
  {
   "cell_type": "code",
   "execution_count": 5,
   "id": "213e6ff1-d8f6-46fe-bd55-a287111b33e3",
   "metadata": {},
   "outputs": [],
   "source": [
    "file = r'..\\data\\weatherAUS.csv'\n",
    "df = rain.pipline_read_data(file) # Leyendo el dataset\n",
    "df_train, _ = rain.split_data(df) # Particionando la información\n",
    "\n",
    "df_train = rain.process_data(df_train) # Procesando los conjuntos de dato de datos"
   ]
  },
  {
   "cell_type": "code",
   "execution_count": null,
   "id": "fa3eec77-6f1b-4593-8ccf-1671e0a5737b",
   "metadata": {},
   "outputs": [],
   "source": []
  }
 ],
 "metadata": {
  "kernelspec": {
   "display_name": "venv_rain",
   "language": "python",
   "name": "venv_rain"
  },
  "language_info": {
   "codemirror_mode": {
    "name": "ipython",
    "version": 3
   },
   "file_extension": ".py",
   "mimetype": "text/x-python",
   "name": "python",
   "nbconvert_exporter": "python",
   "pygments_lexer": "ipython3",
   "version": "3.9.5"
  }
 },
 "nbformat": 4,
 "nbformat_minor": 5
}
