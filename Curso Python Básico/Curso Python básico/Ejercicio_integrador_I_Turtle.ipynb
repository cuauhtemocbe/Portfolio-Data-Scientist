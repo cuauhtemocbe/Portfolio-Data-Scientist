{
  "nbformat": 4,
  "nbformat_minor": 0,
  "metadata": {
    "colab": {
      "provenance": [],
      "collapsed_sections": [],
      "authorship_tag": "ABX9TyMpsIQxx0ot10r3trWC24ut",
      "include_colab_link": true
    },
    "kernelspec": {
      "name": "python3",
      "display_name": "Python 3"
    },
    "language_info": {
      "name": "python"
    }
  },
  "cells": [
    {
      "cell_type": "markdown",
      "metadata": {
        "id": "view-in-github",
        "colab_type": "text"
      },
      "source": [
        "<a href=\"https://colab.research.google.com/github/cuauhtemocbe/Python-Basics/blob/main/Ejercicio_integrador_I_Turtle.ipynb\" target=\"_parent\"><img src=\"https://colab.research.google.com/assets/colab-badge.svg\" alt=\"Open In Colab\"/></a>"
      ]
    },
    {
      "cell_type": "markdown",
      "metadata": {
        "id": "xHjNLwNhGb3k"
      },
      "source": [
        "# Turtle"
      ]
    },
    {
      "cell_type": "markdown",
      "metadata": {
        "id": "ndE5mPnbGhLY"
      },
      "source": [
        "## Instalación"
      ]
    },
    {
      "cell_type": "code",
      "metadata": {
        "id": "435lfi_ORLDZ",
        "collapsed": true
      },
      "source": [
        "# Turtle\n",
        "!pip3 install ColabTurtle"
      ],
      "execution_count": null,
      "outputs": []
    },
    {
      "cell_type": "markdown",
      "metadata": {
        "id": "f8kP1cydC3av"
      },
      "source": [
        "\"Turtle\" es una turtle es una libreria gráfica mediante coordenadas relativas. <br>\n",
        "\n",
        "Para usarlo es necesario crear una ventana por separado (screen) para poder ejecutar cada comando de dibujo. <br>"
      ]
    },
    {
      "cell_type": "code",
      "source": [
        "from ColabTurtle.Turtle import *"
      ],
      "metadata": {
        "id": "99epYGkOPnT6"
      },
      "execution_count": null,
      "outputs": []
    },
    {
      "cell_type": "code",
      "metadata": {
        "id": "WhVSrohKRJ7b",
        "collapsed": true
      },
      "source": [
        "from ColabTurtle.Turtle import *\n",
        "\n",
        "initializeTurtle(initial_speed=7)\n",
        "colors_list = ['red', 'purple', 'blue', 'green', 'orange', 'yellow']\n",
        "bgcolor('black') # Pantalla sea de color negro\n",
        "\n",
        "for value in range(360): # Ciclo for\n",
        "  # Se ejecuta todo este bloque\n",
        "  pencolor(colors_list[value%6]) # obtenemos los índices: 0-5 y nos regresa el color que corresponda\n",
        "  width(int(value/100) + 1) # va a tener valores de 1, 2, 3 o 4\n",
        "  forward(value/1.5) #\n",
        "  left(59) #"
      ],
      "execution_count": null,
      "outputs": []
    },
    {
      "cell_type": "markdown",
      "metadata": {
        "id": "kQXgqnTmDXnj"
      },
      "source": [
        "Primero debemos crear esta pantalla, inicializando una variable para ella. <br>\n",
        "**Nota:** La asignación de un valor inicial se llama inicialización"
      ]
    },
    {
      "cell_type": "code",
      "metadata": {
        "id": "9u-YLfB_CCK3"
      },
      "source": [
        "initializeTurtle()\n",
        "bgcolor('green')"
      ],
      "execution_count": null,
      "outputs": []
    },
    {
      "cell_type": "markdown",
      "metadata": {
        "id": "VcidcF1pEHVm"
      },
      "source": [
        "La tortuta, que es un objeto, le podemos dar órdenes de movimiento (avance, retroceso, giro, etc)."
      ]
    },
    {
      "cell_type": "markdown",
      "metadata": {
        "id": "dXfZ7BhUEKw7"
      },
      "source": [
        "El comando left() gira a la tortuta en el lugar el valor dado, en grados, en el sentido contrario a las agujas del reloj"
      ]
    },
    {
      "cell_type": "markdown",
      "metadata": {
        "id": "ZtByWR-sEoIn"
      },
      "source": [
        "El comando right() la girará en el sentido de las agujas del reloj"
      ]
    },
    {
      "cell_type": "code",
      "metadata": {
        "id": "aCC4O2aFCUzZ"
      },
      "source": [
        "initializeTurtle(initial_speed=5)\n",
        "forward(100) # Avance\n",
        "left(90)  # Gira sentido contrario manecillas reloj\n",
        "forward(200)\n",
        "right(90)\n",
        "forward(70)\n",
        "pencolor('red')\n",
        "right(45)\n",
        "forward(60)\n",
        "right(90)\n",
        "pencolor('blue')\n",
        "right(30)\n",
        "width(2)\n",
        "forward(200)"
      ],
      "execution_count": null,
      "outputs": []
    },
    {
      "cell_type": "code",
      "metadata": {
        "id": "MFLIpL-gbgJN"
      },
      "source": [
        "colors[-2]"
      ],
      "execution_count": null,
      "outputs": []
    },
    {
      "cell_type": "code",
      "metadata": {
        "id": "jjlHS4x8_dUv"
      },
      "source": [
        "colors = ['red', 'purple', 'blue', 'green', 'orange', 'yellow']\n",
        "print(colors[2])"
      ],
      "execution_count": null,
      "outputs": []
    },
    {
      "cell_type": "code",
      "metadata": {
        "id": "8wWzWh1vIgGO"
      },
      "source": [
        "colors[6]"
      ],
      "execution_count": null,
      "outputs": []
    },
    {
      "cell_type": "code",
      "metadata": {
        "id": "5ePFaChkpbTi"
      },
      "source": [
        "for value in range(20): # Ciclo for\n",
        "  # Se ejecuta todo este bloque\n",
        "  print(value%6)\n",
        "  print('esto esta dentro del ciclo for')\n",
        "\n",
        "print('esto NO esta dentro del ciclo for')"
      ],
      "execution_count": null,
      "outputs": []
    },
    {
      "cell_type": "code",
      "metadata": {
        "id": "1tfRiIA5cXyD"
      },
      "source": [
        "10%2"
      ],
      "execution_count": null,
      "outputs": []
    },
    {
      "cell_type": "code",
      "source": [
        "range(0, 20)"
      ],
      "metadata": {
        "id": "6kbz3PBAS2H7"
      },
      "execution_count": null,
      "outputs": []
    },
    {
      "cell_type": "code",
      "metadata": {
        "id": "h7CsFR6ic1Ho"
      },
      "source": [
        "list(range(0, 20))"
      ],
      "execution_count": null,
      "outputs": []
    },
    {
      "cell_type": "code",
      "metadata": {
        "id": "qoy483gq_oNJ"
      },
      "source": [
        "for value in range(20): # Ciclo for\n",
        "  # Se ejecuta todo este bloque\n",
        "  index = value%6\n",
        "  print(f'Índice {index} regresa el color {colors[value%6]}')"
      ],
      "execution_count": null,
      "outputs": []
    },
    {
      "cell_type": "code",
      "metadata": {
        "id": "QOT-sYXn_0Pt"
      },
      "source": [
        "for value in range(20):\n",
        "  print(f'value/100: {value/100}')\n",
        "  print(f'resultado: {int(value/100) + 1}')\n",
        "  print('\\n')"
      ],
      "execution_count": null,
      "outputs": []
    },
    {
      "cell_type": "code",
      "metadata": {
        "id": "4UXBidDN_-as"
      },
      "source": [
        "for value in range(0, 360, 50):\n",
        "  print(value)\n",
        "  print(int(value/100) + 1)"
      ],
      "execution_count": null,
      "outputs": []
    },
    {
      "cell_type": "code",
      "metadata": {
        "id": "4N_Eie_XFTz4"
      },
      "source": [
        "from ColabTurtle.Turtle import * # importamos las funciones de la libreria ColabTurtle\n",
        "\n",
        "initializeTurtle(initial_speed=13) # Creamos la pantalla (lienzo)\n",
        "\n",
        "colors = ['red', 'purple', 'blue', 'green', 'orange', 'yellow'] # Creamos la lista y almacenamos los colores\n",
        "bgcolor('black') # Color de la pantalla\n",
        "\n",
        "for value in range(360): # Ciclo for\n",
        "  # Ejecuta todo lo que este dentro (línea 9 a la 13) del ciclo\n",
        "  pencolor(colors[value%6]) # Asignar un color a nuestra línea\n",
        "  width(int(value/100) + 1) # Darle un valor de anchura a la línea\n",
        "  forward(value/1.5) # Le decimos a nuestra tortuga, cuanto queremos que avance\n",
        "  left(25) # Que gire en sentido contrario a las manecillas del reloj\n",
        "\n",
        "print('Terminó el viaje de la tortuga ')"
      ],
      "execution_count": null,
      "outputs": []
    },
    {
      "cell_type": "markdown",
      "metadata": {
        "id": "C6B_GZFeLj2E"
      },
      "source": [
        "## Fuentes <br>\n",
        "https://github.com/tolgaatam/ColabTurtle<br>\n",
        "https://www.geeksforgeeks.org/turtle-programming-python/<br>\n",
        "https://realpython.com/beginners-guide-python-turtle/<br>"
      ]
    }
  ]
}