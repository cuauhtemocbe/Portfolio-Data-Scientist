{
  "nbformat": 4,
  "nbformat_minor": 0,
  "metadata": {
    "colab": {
      "provenance": [],
      "include_colab_link": true
    },
    "kernelspec": {
      "name": "python3",
      "display_name": "Python 3"
    },
    "language_info": {
      "name": "python"
    }
  },
  "cells": [
    {
      "cell_type": "markdown",
      "metadata": {
        "id": "view-in-github",
        "colab_type": "text"
      },
      "source": [
        "<a href=\"https://colab.research.google.com/github/cuauhtemocbe/Python-Basics/blob/main/Manejo_de_excepciones.ipynb\" target=\"_parent\"><img src=\"https://colab.research.google.com/assets/colab-badge.svg\" alt=\"Open In Colab\"/></a>"
      ]
    },
    {
      "cell_type": "markdown",
      "source": [
        "Queremos escribir un programa que nos devuelva el reciproco de un número. \n",
        "\n",
        "Recíprocos\n",
        "El recíproco número x es el número que, cuando es multiplicado por x , da 1."
      ],
      "metadata": {
        "id": "cm_kgKmGy9c4"
      }
    },
    {
      "cell_type": "code",
      "source": [
        "numero = 0\n",
        "while numero >= 0:\n",
        "  numero = float(input(\"Ingresa un número:\"))\n",
        "\n",
        "  result = 1/numero\n",
        "\n",
        "  print(\"El recíproco de\", numero, \"es\", result)"
      ],
      "metadata": {
        "colab": {
          "base_uri": "https://localhost:8080/",
          "height": 442
        },
        "id": "t5c7mglPylvu",
        "outputId": "67949827-873a-4adb-9c2f-7b600e3379c7"
      },
      "execution_count": null,
      "outputs": [
        {
          "name": "stdout",
          "output_type": "stream",
          "text": [
            "Ingresa un número:1\n",
            "El recíproco de 1.0 es 1.0\n",
            "Ingresa un número:2\n",
            "El recíproco de 2.0 es 0.5\n",
            "Ingresa un número:3\n",
            "El recíproco de 3.0 es 0.3333333333333333\n",
            "Ingresa un número:4\n",
            "El recíproco de 4.0 es 0.25\n",
            "Ingresa un número:5\n",
            "El recíproco de 5.0 es 0.2\n",
            "Ingresa un número:impar\n"
          ]
        },
        {
          "output_type": "error",
          "ename": "ValueError",
          "evalue": "ignored",
          "traceback": [
            "\u001b[0;31m---------------------------------------------------------------------------\u001b[0m",
            "\u001b[0;31mValueError\u001b[0m                                Traceback (most recent call last)",
            "\u001b[0;32m<ipython-input-1-a9e2c0f4b1b0>\u001b[0m in \u001b[0;36m<module>\u001b[0;34m()\u001b[0m\n\u001b[1;32m      1\u001b[0m \u001b[0mnumero\u001b[0m \u001b[0;34m=\u001b[0m \u001b[0;36m0\u001b[0m\u001b[0;34m\u001b[0m\u001b[0;34m\u001b[0m\u001b[0m\n\u001b[1;32m      2\u001b[0m \u001b[0;32mwhile\u001b[0m \u001b[0mnumero\u001b[0m \u001b[0;34m>=\u001b[0m \u001b[0;36m0\u001b[0m\u001b[0;34m:\u001b[0m\u001b[0;34m\u001b[0m\u001b[0;34m\u001b[0m\u001b[0m\n\u001b[0;32m----> 3\u001b[0;31m   \u001b[0mnumero\u001b[0m \u001b[0;34m=\u001b[0m \u001b[0mfloat\u001b[0m\u001b[0;34m(\u001b[0m\u001b[0minput\u001b[0m\u001b[0;34m(\u001b[0m\u001b[0;34m\"Ingresa un número:\"\u001b[0m\u001b[0;34m)\u001b[0m\u001b[0;34m)\u001b[0m\u001b[0;34m\u001b[0m\u001b[0;34m\u001b[0m\u001b[0m\n\u001b[0m\u001b[1;32m      4\u001b[0m \u001b[0;34m\u001b[0m\u001b[0m\n\u001b[1;32m      5\u001b[0m   \u001b[0mresult\u001b[0m \u001b[0;34m=\u001b[0m \u001b[0;36m1\u001b[0m\u001b[0;34m/\u001b[0m\u001b[0mnumero\u001b[0m\u001b[0;34m\u001b[0m\u001b[0;34m\u001b[0m\u001b[0m\n",
            "\u001b[0;31mValueError\u001b[0m: could not convert string to float: 'impar'"
          ]
        }
      ]
    },
    {
      "cell_type": "markdown",
      "metadata": {
        "id": "5uqNNVN7wAXe"
      },
      "source": [
        "# Sección nueva"
      ]
    },
    {
      "cell_type": "code",
      "metadata": {
        "colab": {
          "base_uri": "https://localhost:8080/"
        },
        "id": "758Brr3yJgPP",
        "outputId": "742d5555-99fa-41a9-9ee4-34428219ab7d"
      },
      "source": [
        "# https://www.programiz.com/python-programming/exception-handling#:~:text=In%20Python%2C%20exceptions%20can%20be,written%20in%20the%20except%20clause.&text=Here%2C%20we%20print%20the%20name,()%20function%20inside%20sys%20module.\n",
        "\n",
        "# import module sys to get the type of exception\n",
        "import sys\n",
        "\n",
        "random_list = ['ABC', 0, 2.0]\n",
        "\n",
        "for value in random_list:\n",
        "    try:\n",
        "        print(\"El valor es: \", value, 'que es de tipo', type(value))\n",
        "        result = 1/float(value)\n",
        "    except:\n",
        "        print(\"Ups! El error es: \", sys.exc_info()[0])\n",
        "        print()\n",
        "\n",
        "print(\"El resultado del valor: \", value, \"es\", result)"
      ],
      "execution_count": null,
      "outputs": [
        {
          "output_type": "stream",
          "name": "stdout",
          "text": [
            "El valor es:  ABC que es de tipo <class 'str'>\n",
            "Ups! El error es:  <class 'ValueError'>\n",
            "\n",
            "El valor es:  0 que es de tipo <class 'int'>\n",
            "Ups! El error es:  <class 'ZeroDivisionError'>\n",
            "\n",
            "El valor es:  2.0 que es de tipo <class 'float'>\n",
            "El resultado del valor:  2.0 es 0.5\n"
          ]
        }
      ]
    },
    {
      "cell_type": "code",
      "source": [
        "number = 0\n",
        "while number >= 0:\n",
        "    \n",
        "  try:\n",
        "    # Intenta ejecutar este bloque de código\n",
        "    number = float(input(\"Ingresa un número:\"))\n",
        "    result = 1/number\n",
        "    print(\"El recíproco de\", number, \"es\", result)\n",
        "\n",
        "  except:\n",
        "    # Si surge un error en el bloque anterior\n",
        "    # ejecuta esta línea de código\n",
        "    print('ERROR: Ingresa un número válido')\n",
        "  \n",
        "  print('')"
      ],
      "metadata": {
        "colab": {
          "base_uri": "https://localhost:8080/"
        },
        "id": "3dBTbLGE0j1H",
        "outputId": "e9526e81-6e69-4ce9-988f-c622a066b75b"
      },
      "execution_count": null,
      "outputs": [
        {
          "output_type": "stream",
          "name": "stdout",
          "text": [
            "Ingresa un número:0\n",
            "ERROR: Ingresa un número válido\n",
            "\n",
            "Ingresa un número:-1\n",
            "El recíproco de -1.0 es -1.0\n",
            "\n"
          ]
        }
      ]
    },
    {
      "cell_type": "markdown",
      "metadata": {
        "id": "Oa107kke4ZKc"
      },
      "source": [
        "**ZeroDivisionError**\n",
        "<br>\n",
        "Puesto que muchos algoritmos informáticos clásicos de división\n",
        "usan el método de restas sucesivas, al ser el divisor cero,\n",
        "la resta como tal se ejecuta por siempre, ya que el dividendo nunca cambia. La aplicación en cuestión entra entonces en un bucle infinito.\n",
        "<br><br>\n",
        "**División de 24/4**\n",
        "<br><br>\n",
        "24 - 4 = 20 - 4 = 16 - 4 = 12 - 4 = 8 - 4 = 4 - 4 = 0\n",
        "<br><br>\n",
        "Se le ha restado un total de seis 4, por lo que el resultado de la división de 24 entre 4 es 6.\n",
        "<br><br>\n",
        "Ahora bien, ¿qué ocurre cuando quieres dividir por ejemplo **24 entre 0**? \n",
        "<br>\n",
        "Ocurre que tienes que estar restando sin parar para llegar a 0, y nunca vas a llegar. \n",
        "<br><br>\n",
        "24 - 0 = 24 - 0 = 24 - 0 = 24 - 0 = 24 - 0 = 24 - 0 = 24 - 0 = 24... y así hasta el infinito. \n",
        "<br><br>\n",
        "Por eso no es posible dividir entre cero, porque no estás restando nada al número inicial.\n",
        "<br>\n",
        "Python incorpora un mensaje de error cuando una división por cero ocurre explícitamente."
      ]
    },
    {
      "cell_type": "code",
      "source": [
        "1/2"
      ],
      "metadata": {
        "colab": {
          "base_uri": "https://localhost:8080/"
        },
        "id": "q4zhvFquu2kJ",
        "outputId": "278f27d7-a276-4d2d-986e-e55b731f303a"
      },
      "execution_count": null,
      "outputs": [
        {
          "output_type": "execute_result",
          "data": {
            "text/plain": [
              "0.5"
            ]
          },
          "metadata": {},
          "execution_count": 6
        }
      ]
    },
    {
      "cell_type": "code",
      "source": [
        "1/2.0"
      ],
      "metadata": {
        "colab": {
          "base_uri": "https://localhost:8080/"
        },
        "id": "86xHu7gIu4MI",
        "outputId": "23803af3-d026-4cf1-fe51-25cce02cb0d0"
      },
      "execution_count": null,
      "outputs": [
        {
          "output_type": "execute_result",
          "data": {
            "text/plain": [
              "0.5"
            ]
          },
          "metadata": {},
          "execution_count": 7
        }
      ]
    },
    {
      "cell_type": "code",
      "source": [
        "1/0"
      ],
      "metadata": {
        "colab": {
          "base_uri": "https://localhost:8080/",
          "height": 170
        },
        "id": "KCp5ELOG3p0r",
        "outputId": "00a09430-ed49-4ee8-b9a7-5519eed79df9"
      },
      "execution_count": null,
      "outputs": [
        {
          "output_type": "error",
          "ename": "ZeroDivisionError",
          "evalue": "ignored",
          "traceback": [
            "\u001b[0;31m---------------------------------------------------------------------------\u001b[0m",
            "\u001b[0;31mZeroDivisionError\u001b[0m                         Traceback (most recent call last)",
            "\u001b[0;32m<ipython-input-8-9e1622b385b6>\u001b[0m in \u001b[0;36m<module>\u001b[0;34m()\u001b[0m\n\u001b[0;32m----> 1\u001b[0;31m \u001b[0;36m1\u001b[0m\u001b[0;34m/\u001b[0m\u001b[0;36m0\u001b[0m\u001b[0;34m\u001b[0m\u001b[0;34m\u001b[0m\u001b[0m\n\u001b[0m",
            "\u001b[0;31mZeroDivisionError\u001b[0m: division by zero"
          ]
        }
      ]
    },
    {
      "cell_type": "code",
      "metadata": {
        "colab": {
          "base_uri": "https://localhost:8080/",
          "height": 206
        },
        "id": "uhKiG5u0NTPq",
        "outputId": "d65cde4a-02d1-4fdb-cff5-948ba615c428",
        "collapsed": true
      },
      "source": [
        "1/int('a')\n",
        "# ValueError\n",
        "# Nos dice que el argumento de typo 'string' no puede ser convertido a número "
      ],
      "execution_count": null,
      "outputs": [
        {
          "output_type": "error",
          "ename": "ValueError",
          "evalue": "ignored",
          "traceback": [
            "\u001b[0;31m---------------------------------------------------------------------------\u001b[0m",
            "\u001b[0;31mValueError\u001b[0m                                Traceback (most recent call last)",
            "\u001b[0;32m<ipython-input-9-1273d057e323>\u001b[0m in \u001b[0;36m<module>\u001b[0;34m()\u001b[0m\n\u001b[0;32m----> 1\u001b[0;31m \u001b[0;36m1\u001b[0m\u001b[0;34m/\u001b[0m\u001b[0mint\u001b[0m\u001b[0;34m(\u001b[0m\u001b[0;34m'a'\u001b[0m\u001b[0;34m)\u001b[0m\u001b[0;34m\u001b[0m\u001b[0;34m\u001b[0m\u001b[0m\n\u001b[0m\u001b[1;32m      2\u001b[0m \u001b[0;31m# ValueError\u001b[0m\u001b[0;34m\u001b[0m\u001b[0;34m\u001b[0m\u001b[0;34m\u001b[0m\u001b[0m\n\u001b[1;32m      3\u001b[0m \u001b[0;31m# Nos dice que el argumento de typo 'string' no puede ser convertido a número\u001b[0m\u001b[0;34m\u001b[0m\u001b[0;34m\u001b[0m\u001b[0;34m\u001b[0m\u001b[0m\n",
            "\u001b[0;31mValueError\u001b[0m: invalid literal for int() with base 10: 'a'"
          ]
        }
      ]
    },
    {
      "cell_type": "code",
      "metadata": {
        "colab": {
          "base_uri": "https://localhost:8080/"
        },
        "id": "9it19oIpOWD4",
        "outputId": "ff7691a9-afd8-43a8-cf5a-c15c89f14901"
      },
      "source": [
        "try:\n",
        "  1/int('a')\n",
        "\n",
        "except:\n",
        "  print('Error desconocido')"
      ],
      "execution_count": null,
      "outputs": [
        {
          "output_type": "stream",
          "name": "stdout",
          "text": [
            "Error desconocido\n"
          ]
        }
      ]
    },
    {
      "cell_type": "code",
      "metadata": {
        "colab": {
          "base_uri": "https://localhost:8080/"
        },
        "id": "pj82oihwO4DS",
        "outputId": "29ed3853-16c7-443c-dc87-13193c98fd77"
      },
      "source": [
        "try:\n",
        "  1/int('a')\n",
        "\n",
        "except ValueError as e:\n",
        "  print(e)"
      ],
      "execution_count": null,
      "outputs": [
        {
          "output_type": "stream",
          "name": "stdout",
          "text": [
            "invalid literal for int() with base 10: 'a'\n"
          ]
        }
      ]
    },
    {
      "cell_type": "code",
      "metadata": {
        "colab": {
          "base_uri": "https://localhost:8080/",
          "height": 242
        },
        "id": "FAfUW-2dJsk3",
        "outputId": "e6c1cb62-d24f-481a-fa6c-0656e2fd6c3c"
      },
      "source": [
        "try:\n",
        "  1/int(numeros)\n",
        "\n",
        "except ValueError as e:\n",
        "  print(e)"
      ],
      "execution_count": null,
      "outputs": [
        {
          "output_type": "error",
          "ename": "NameError",
          "evalue": "ignored",
          "traceback": [
            "\u001b[0;31m---------------------------------------------------------------------------\u001b[0m",
            "\u001b[0;31mNameError\u001b[0m                                 Traceback (most recent call last)",
            "\u001b[0;32m<ipython-input-13-ae40fdd3c1ee>\u001b[0m in \u001b[0;36m<module>\u001b[0;34m()\u001b[0m\n\u001b[1;32m      1\u001b[0m \u001b[0;32mtry\u001b[0m\u001b[0;34m:\u001b[0m\u001b[0;34m\u001b[0m\u001b[0;34m\u001b[0m\u001b[0m\n\u001b[0;32m----> 2\u001b[0;31m   \u001b[0;36m1\u001b[0m\u001b[0;34m/\u001b[0m\u001b[0mint\u001b[0m\u001b[0;34m(\u001b[0m\u001b[0mnumeros\u001b[0m\u001b[0;34m)\u001b[0m\u001b[0;34m\u001b[0m\u001b[0;34m\u001b[0m\u001b[0m\n\u001b[0m\u001b[1;32m      3\u001b[0m \u001b[0;34m\u001b[0m\u001b[0m\n\u001b[1;32m      4\u001b[0m \u001b[0;32mexcept\u001b[0m \u001b[0mValueError\u001b[0m \u001b[0;32mas\u001b[0m \u001b[0me\u001b[0m\u001b[0;34m:\u001b[0m\u001b[0;34m\u001b[0m\u001b[0;34m\u001b[0m\u001b[0m\n\u001b[1;32m      5\u001b[0m   \u001b[0mprint\u001b[0m\u001b[0;34m(\u001b[0m\u001b[0me\u001b[0m\u001b[0;34m)\u001b[0m\u001b[0;34m\u001b[0m\u001b[0;34m\u001b[0m\u001b[0m\n",
            "\u001b[0;31mNameError\u001b[0m: name 'numeros' is not defined"
          ]
        }
      ]
    },
    {
      "cell_type": "code",
      "source": [
        "try:\n",
        "  1/int(NUMEROS)\n",
        "\n",
        "except NameError:\n",
        "  print('Olvidaste escribir un número')"
      ],
      "metadata": {
        "colab": {
          "base_uri": "https://localhost:8080/"
        },
        "id": "65IHB7CNyXXr",
        "outputId": "656e6b8f-6c27-4f18-e12c-f681264f3580"
      },
      "execution_count": null,
      "outputs": [
        {
          "output_type": "stream",
          "name": "stdout",
          "text": [
            "Olvidaste escribir un número\n"
          ]
        }
      ]
    },
    {
      "cell_type": "code",
      "metadata": {
        "id": "OykGquBNPyo0"
      },
      "source": [
        "try:\n",
        "  # Se intenta ejecutar este bloque de codigo\n",
        "  # Si hay un error se pasa al siguiente bloque\n",
        "  pass\n",
        "\n",
        "except ValueError:\n",
        "  # Si arriba se genero un error es de tipo ValueError\n",
        "  # se ejecuta esta linea de codigo\n",
        "  pass\n",
        "\n",
        "except (TypeError, ZeroDivisionError):  # Manejo multple de excepciones\n",
        "  # Si el error no es ValueError, se revisa si es de tipo\n",
        "  # TypeError o ZeroDivisionError. Si el error es de alguno\n",
        "  # de estos ultimo se ejecuta este bloque de codigo\n",
        "  pass\n",
        "\n",
        "except:\n",
        "   # Otros errores\n",
        "   pass"
      ],
      "execution_count": null,
      "outputs": []
    },
    {
      "cell_type": "markdown",
      "metadata": {
        "id": "6tSC-ny__br4"
      },
      "source": [
        "## Raise"
      ]
    },
    {
      "cell_type": "markdown",
      "metadata": {
        "id": "kxW270eZ_ilH"
      },
      "source": [
        "Las excepciones se generan cuando  se produce un error en el entorno de ejecucion (runtime)<br>\n",
        "Podemos definir el tipo de error a generar y el texto que se mostrara al usuario."
      ]
    },
    {
      "cell_type": "code",
      "metadata": {
        "id": "Cxwy63596hHO"
      },
      "source": [
        "a = int(input(\"Ingresa un numero positivo: \"))\n",
        "if a <= 0:\n",
        "  raise ValueError(\"Esto no es un numero entero positivo!\")"
      ],
      "execution_count": null,
      "outputs": []
    },
    {
      "cell_type": "markdown",
      "metadata": {
        "id": "PlNrSu0M7wnP"
      },
      "source": [
        "## Else"
      ]
    },
    {
      "cell_type": "markdown",
      "metadata": {
        "id": "mZSJYUd8-T9I"
      },
      "source": [
        "En algunas situaciones, si el bloque de codigo dentro de **try** se ejecuto correctamente, y quisieramos ejecutar otro bloque, podemos usar la palabra clave **else**."
      ]
    },
    {
      "cell_type": "code",
      "metadata": {
        "id": "JejR4VKo8_Xp"
      },
      "source": [
        "num = input(\"Ingresa un numero positivo: \")\n",
        "\n",
        "try:\n",
        "  num = float(num)\n",
        "  \n",
        "except:\n",
        "  print(f\"El valor {num} NO es un numero !\")\n",
        "  # raise Exception(f'{num} NO es un numero')\n",
        "\n",
        "else:\n",
        "  resultado = 1/num\n",
        "  print(resultado)"
      ],
      "execution_count": null,
      "outputs": []
    },
    {
      "cell_type": "markdown",
      "metadata": {
        "id": "cS-Y9t1W65Eo"
      },
      "source": [
        "## Finally"
      ]
    },
    {
      "cell_type": "markdown",
      "metadata": {
        "id": "6VbrHkdz7AIL"
      },
      "source": [
        "Imagina que tienes que cerrar un archivo que haz abierto, cerrar una conexion a una base de datos, despues de implementar algún tipo de acción para limpiar después de ejecutar su código."
      ]
    },
    {
      "cell_type": "code",
      "metadata": {
        "id": "9osM04Jp6hnU"
      },
      "source": [
        "try:\n",
        "   conexion = conexion_base_datos(nombre_bd=\"gastos.db\", server='ibm')\n",
        "   # realizamos algunas operaciones\n",
        "\n",
        "except:\n",
        "  print('error en la conexion a la base de datos')\n",
        "\n",
        "finally:\n",
        "   conexion.close()"
      ],
      "execution_count": null,
      "outputs": []
    },
    {
      "cell_type": "markdown",
      "metadata": {
        "id": "8n9wy1AEBMBy"
      },
      "source": [
        "## Ejemplo integrador"
      ]
    },
    {
      "cell_type": "code",
      "metadata": {
        "collapsed": true,
        "id": "fkDT9Gn2BNdB"
      },
      "source": [
        "def area_circulo(radio):\n",
        "  area = (radio * radio) * 3.1415\n",
        "  print(\"El área del círculo con radio\", radio, \"es:\", area)\n",
        "\n",
        "while True:\n",
        "  radio = float(input(\"Ingresa el radio:\"))\n",
        "\n",
        "  if radio == 0:\n",
        "    break\n",
        "\n",
        "  else:\n",
        "    area_circulo(radio)\n",
        "\n",
        "print('Programa terminado')"
      ],
      "execution_count": null,
      "outputs": []
    },
    {
      "cell_type": "code",
      "metadata": {
        "id": "tc3VvgnHBWrG",
        "colab": {
          "base_uri": "https://localhost:8080/"
        },
        "outputId": "e03bfd70-e551-4ed9-87ac-8e92317b01f9"
      },
      "source": [
        "n = 'impar'\n",
        "\n",
        "try:\n",
        "  if n % 3 == 0:\n",
        "    print('es múltiplo de 3')\n",
        "  else:\n",
        "    print('NO es múltiplo de 3')\n",
        "except TypeError as e:\n",
        "  print('un error ocurrio', e)"
      ],
      "execution_count": null,
      "outputs": [
        {
          "output_type": "stream",
          "name": "stdout",
          "text": [
            "un error ocurrio not all arguments converted during string formatting\n"
          ]
        }
      ]
    },
    {
      "cell_type": "code",
      "source": [
        "n % 3 == 0"
      ],
      "metadata": {
        "colab": {
          "base_uri": "https://localhost:8080/",
          "height": 170
        },
        "id": "LfBwge-BmkmD",
        "outputId": "cc05bc55-3e45-4aa9-b751-1b200d5b691b"
      },
      "execution_count": null,
      "outputs": [
        {
          "output_type": "error",
          "ename": "TypeError",
          "evalue": "ignored",
          "traceback": [
            "\u001b[0;31m---------------------------------------------------------------------------\u001b[0m",
            "\u001b[0;31mTypeError\u001b[0m                                 Traceback (most recent call last)",
            "\u001b[0;32m<ipython-input-20-6ab4a1e717b8>\u001b[0m in \u001b[0;36m<module>\u001b[0;34m()\u001b[0m\n\u001b[0;32m----> 1\u001b[0;31m \u001b[0mn\u001b[0m \u001b[0;34m%\u001b[0m \u001b[0;36m3\u001b[0m \u001b[0;34m==\u001b[0m \u001b[0;36m0\u001b[0m\u001b[0;34m\u001b[0m\u001b[0;34m\u001b[0m\u001b[0m\n\u001b[0m",
            "\u001b[0;31mTypeError\u001b[0m: not all arguments converted during string formatting"
          ]
        }
      ]
    },
    {
      "cell_type": "code",
      "source": [],
      "metadata": {
        "id": "o491yLbUmuFH"
      },
      "execution_count": null,
      "outputs": []
    }
  ]
}
