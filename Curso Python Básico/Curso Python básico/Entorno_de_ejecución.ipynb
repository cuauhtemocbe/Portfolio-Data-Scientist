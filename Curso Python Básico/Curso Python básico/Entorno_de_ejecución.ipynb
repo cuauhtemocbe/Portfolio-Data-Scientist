{
  "nbformat": 4,
  "nbformat_minor": 0,
  "metadata": {
    "colab": {
      "provenance": [],
      "authorship_tag": "ABX9TyNd733l/mkdgZlVp4yJf0bl",
      "include_colab_link": true
    },
    "kernelspec": {
      "name": "python3",
      "display_name": "Python 3"
    },
    "language_info": {
      "name": "python"
    }
  },
  "cells": [
    {
      "cell_type": "markdown",
      "metadata": {
        "id": "view-in-github",
        "colab_type": "text"
      },
      "source": [
        "<a href=\"https://colab.research.google.com/github/cuauhtemocbe/Python-Basics/blob/main/Entorno_de_ejecuci%C3%B3n.ipynb\" target=\"_parent\"><img src=\"https://colab.research.google.com/assets/colab-badge.svg\" alt=\"Open In Colab\"/></a>"
      ]
    },
    {
      "cell_type": "markdown",
      "source": [
        "**Runtime Environment** <br>\n",
        "Permite ejecutar un lenguaje de programación (Python) interactúe con los recursos informáticos (servidor de Google) que necesita para funcionar."
      ],
      "metadata": {
        "id": "5r3TCk9SQyAZ"
      }
    },
    {
      "cell_type": "code",
      "execution_count": null,
      "metadata": {
        "id": "zEufcSlyPxuM"
      },
      "outputs": [],
      "source": [
        "!which python"
      ]
    },
    {
      "cell_type": "code",
      "source": [
        "!python --version"
      ],
      "metadata": {
        "id": "I8Bmsh6mTJUa"
      },
      "execution_count": null,
      "outputs": []
    },
    {
      "cell_type": "code",
      "source": [
        "# 12GB de memoria RAM\n",
        "!grep MemTotal /proc/meminfo "
      ],
      "metadata": {
        "id": "1H3e1ZZXR7DH"
      },
      "execution_count": null,
      "outputs": []
    },
    {
      "cell_type": "markdown",
      "source": [
        "## Creando una variable y restaurando runtime"
      ],
      "metadata": {
        "id": "rNQrNWQVTUga"
      }
    },
    {
      "cell_type": "code",
      "source": [
        "mi_variable = 2"
      ],
      "metadata": {
        "id": "Y471J-cvTTmW"
      },
      "execution_count": null,
      "outputs": []
    },
    {
      "cell_type": "code",
      "source": [
        "print(mi_variable)"
      ],
      "metadata": {
        "id": "eLD6AhczTbWO"
      },
      "execution_count": null,
      "outputs": []
    },
    {
      "cell_type": "markdown",
      "source": [
        "## Beneficios de restaurar runtime\n",
        "Si sobreescribes una palabra reservada (built-in) de python, podrías restaurar el entorno de ejecución"
      ],
      "metadata": {
        "id": "Q0ZTLjPqTv5W"
      }
    },
    {
      "cell_type": "code",
      "source": [
        "print('Hello, World!')"
      ],
      "metadata": {
        "id": "mqeJZZhdUQUR"
      },
      "execution_count": null,
      "outputs": []
    },
    {
      "cell_type": "code",
      "source": [
        "type(print)"
      ],
      "metadata": {
        "id": "mI_BxyKETvZK"
      },
      "execution_count": null,
      "outputs": []
    },
    {
      "cell_type": "code",
      "source": [
        "print = \"Hello, Universe!\""
      ],
      "metadata": {
        "id": "ywvFu5tYTunl"
      },
      "execution_count": null,
      "outputs": []
    },
    {
      "cell_type": "code",
      "source": [
        "type(print)"
      ],
      "metadata": {
        "id": "JhBCEW-zT_lZ"
      },
      "execution_count": null,
      "outputs": []
    },
    {
      "cell_type": "code",
      "source": [
        "print('Hello, World!')"
      ],
      "metadata": {
        "id": "vwZHPqvVUA-F"
      },
      "execution_count": null,
      "outputs": []
    }
  ]
}