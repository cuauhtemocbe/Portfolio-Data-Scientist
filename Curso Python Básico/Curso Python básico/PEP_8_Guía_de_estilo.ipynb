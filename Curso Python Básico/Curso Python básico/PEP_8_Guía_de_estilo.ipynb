{
  "nbformat": 4,
  "nbformat_minor": 0,
  "metadata": {
    "colab": {
      "provenance": [],
      "authorship_tag": "ABX9TyPRNYPwRXliW8WoN/SG8ysV",
      "include_colab_link": true
    },
    "kernelspec": {
      "name": "python3",
      "display_name": "Python 3"
    },
    "language_info": {
      "name": "python"
    }
  },
  "cells": [
    {
      "cell_type": "markdown",
      "metadata": {
        "id": "view-in-github",
        "colab_type": "text"
      },
      "source": [
        "<a href=\"https://colab.research.google.com/github/cuauhtemocbe/Python-Basics/blob/main/PEP_8_Gu%C3%ADa_de_estilo.ipynb\" target=\"_parent\"><img src=\"https://colab.research.google.com/assets/colab-badge.svg\" alt=\"Open In Colab\"/></a>"
      ]
    },
    {
      "cell_type": "markdown",
      "source": [
        "Implementada por Guido van Rossum en 2001, la guía de estilo nos ofrecen estándares y consideraciones para escribir código con Python. <br> \n",
        "Una de las ideas clave de Guido es que el código se lee con más frecuencia de lo que se escribe, por lo que la \"legibilidad\" cunta. <br>\n"
      ],
      "metadata": {
        "id": "9BMavMN_E5d7"
      }
    },
    {
      "cell_type": "markdown",
      "source": [
        "Ejemplos:\n",
        "- Longitud máxima de líneas 79 caracteres"
      ],
      "metadata": {
        "id": "kiikCDkMFv2o"
      }
    },
    {
      "cell_type": "markdown",
      "source": [
        "Espacios"
      ],
      "metadata": {
        "id": "eCZwve0OGF4y"
      }
    },
    {
      "cell_type": "code",
      "execution_count": null,
      "metadata": {
        "id": "LuXTrORyEyOE"
      },
      "outputs": [],
      "source": [
        "# Correct:\n",
        "spam(1)\n",
        "\n",
        "# Wrong:\n",
        "spam (1)"
      ]
    },
    {
      "cell_type": "code",
      "source": [
        "# Correct:\n",
        "dct['key'] = lst[index]\n",
        "\n",
        "# Wrong:\n",
        "dct ['key'] = lst [index]"
      ],
      "metadata": {
        "id": "MWJHjFc9GFMr"
      },
      "execution_count": null,
      "outputs": []
    },
    {
      "cell_type": "code",
      "source": [
        "# Correct:\n",
        "x = 1\n",
        "y = 2\n",
        "long_variable = 3"
      ],
      "metadata": {
        "id": "-7XsZ28AGLtX"
      },
      "execution_count": null,
      "outputs": []
    },
    {
      "cell_type": "code",
      "source": [
        "# Wrong:\n",
        "x             = 1\n",
        "y             = 2\n",
        "long_variable = 3"
      ],
      "metadata": {
        "id": "dJveg1PhGMn1"
      },
      "execution_count": null,
      "outputs": []
    },
    {
      "cell_type": "code",
      "source": [
        "# Correct:\n",
        "def complex(real, imag=0.0):\n",
        "    return magic(r=real, i=imag)\n",
        "\n",
        "# Wrong:\n",
        "def complex(real, imag = 0.0):\n",
        "    return magic(r = real, i = imag)"
      ],
      "metadata": {
        "id": "95GERSqYGRMK"
      },
      "execution_count": null,
      "outputs": []
    },
    {
      "cell_type": "markdown",
      "source": [
        "## Zen de Python"
      ],
      "metadata": {
        "id": "fLNqj_ItGWb0"
      }
    },
    {
      "cell_type": "code",
      "source": [
        "import this"
      ],
      "metadata": {
        "colab": {
          "base_uri": "https://localhost:8080/"
        },
        "id": "TO1nzPB1GZMa",
        "outputId": "973c4042-7df3-4d33-ca2c-faa7d55fc944"
      },
      "execution_count": 1,
      "outputs": [
        {
          "output_type": "stream",
          "name": "stdout",
          "text": [
            "The Zen of Python, by Tim Peters\n",
            "\n",
            "Beautiful is better than ugly.\n",
            "Explicit is better than implicit.\n",
            "Simple is better than complex.\n",
            "Complex is better than complicated.\n",
            "Flat is better than nested.\n",
            "Sparse is better than dense.\n",
            "Readability counts.\n",
            "Special cases aren't special enough to break the rules.\n",
            "Although practicality beats purity.\n",
            "Errors should never pass silently.\n",
            "Unless explicitly silenced.\n",
            "In the face of ambiguity, refuse the temptation to guess.\n",
            "There should be one-- and preferably only one --obvious way to do it.\n",
            "Although that way may not be obvious at first unless you're Dutch.\n",
            "Now is better than never.\n",
            "Although never is often better than *right* now.\n",
            "If the implementation is hard to explain, it's a bad idea.\n",
            "If the implementation is easy to explain, it may be a good idea.\n",
            "Namespaces are one honking great idea -- let's do more of those!\n"
          ]
        }
      ]
    },
    {
      "cell_type": "markdown",
      "source": [
        "Bello es mejor que feo. <br>\n",
        "Explícito es mejor que implícito.<br>\n",
        "Simple es mejor que complejo.<br>\n",
        "Complejo es mejor que complicado.<br>\n",
        "Plano es mejor que anidado.<br>\n",
        "Espaciado es mejor que denso.<br>\n",
        "La legibilidad es importante.<br>\n",
        "Los casos especiales no son lo suficientemente especiales como para romper las reglas.<br>\n",
        "Sin embargo la practicidad le gana a la pureza.<br>\n",
        "Los errores nunca deberían pasar silenciosamente.<br>\n",
        "A menos que se silencien explícitamente.<br>\n",
        "Frente a la ambigüedad, evitar la tentación de adivinar.<br>\n",
        "Debería haber una, y preferiblemente solo una, manera obvia de hacerlo.<br>\n",
        "A pesar de que eso no sea obvio al principio a menos que seas Holandés.<br>\n",
        "Ahora es mejor que nunca.<br>\n",
        "A pesar de que nunca es muchas veces mejor que *ahora* mismo.<br>\n",
        "Si la implementación es difícil de explicar, es una mala idea.<br>\n",
        "Si la implementación es fácil de explicar, puede que sea una buena idea.<br>\n",
        "Los espacios de nombres son una gran idea, ¡tengamos más de esos!<br>"
      ],
      "metadata": {
        "id": "Vt7aGYnwGi_P"
      }
    }
  ]
}