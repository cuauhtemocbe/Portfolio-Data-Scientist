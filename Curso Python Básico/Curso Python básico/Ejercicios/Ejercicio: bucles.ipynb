{
  "nbformat": 4,
  "nbformat_minor": 0,
  "metadata": {
    "colab": {
      "provenance": [],
      "authorship_tag": "ABX9TyNmPlHwheHqvu2I5TXCFP+A",
      "include_colab_link": true
    },
    "kernelspec": {
      "name": "python3",
      "display_name": "Python 3"
    },
    "language_info": {
      "name": "python"
    }
  },
  "cells": [
    {
      "cell_type": "markdown",
      "metadata": {
        "id": "view-in-github",
        "colab_type": "text"
      },
      "source": [
        "<a href=\"https://colab.research.google.com/github/cuauhtemocbe/Python-Basics/blob/main/Ejercicios/Ejercicio%3A%20bucles.ipynb\" target=\"_parent\"><img src=\"https://colab.research.google.com/assets/colab-badge.svg\" alt=\"Open In Colab\"/></a>"
      ]
    },
    {
      "cell_type": "markdown",
      "source": [
        "1. Promedio Artesanal <br>\n",
        "a) Obtén el promedio de la siguiente lista: 1.67, 1.67, 1.62, 0.5, 1.45, 6.05, 7.64, 7.23, 4.44, 7.63, 4.54, 5.55, 6.87, 4.3, 4.23, 8.34, 8.88, 9.95, 9.86, 8.56 <br>\n",
        "b) No puedes usar la función len ni sum. <br>\n",
        "c) Usa el ciclo for <br>\n",
        "d) Redondea el resultado a dos digítos <br>\n",
        "e) Usa f-string para dar formato al print <br>"
      ],
      "metadata": {
        "id": "U5RD2F5bFLan"
      }
    },
    {
      "cell_type": "code",
      "execution_count": null,
      "metadata": {
        "id": "pZf3XaXTFINu"
      },
      "outputs": [],
      "source": []
    },
    {
      "cell_type": "markdown",
      "source": [
        "2. Tablas del 2 <br>\n",
        "a) Usando un ciclo for, genera la tabla de multiplicar del 2. <br>\n",
        "b) Recuerda usar los f-string para manejar los prints <br>\n",
        "\n",
        "Ejemplo del output esperado:\n",
        "\n",
        "```\n",
        "Tabla del 2 \n",
        "\n",
        "2 x 1 = 2\n",
        "2 x 2 = 4\n",
        "2 x 3 = 6\n",
        "2 x 4 = 8\n",
        "2 x 5 = 10\n",
        "2 x 6 = 12\n",
        "2 x 7 = 14\n",
        "2 x 8 = 16\n",
        "2 x 9 = 18\n",
        "2 x 10 = 20\n",
        "```"
      ],
      "metadata": {
        "id": "wRsHVh-mHGHT"
      }
    },
    {
      "cell_type": "code",
      "source": [],
      "metadata": {
        "id": "qEZUlaEBHFwi"
      },
      "execution_count": null,
      "outputs": []
    },
    {
      "cell_type": "markdown",
      "source": [
        "3. Patrones\n",
        "\n",
        "a) Imprime el siguiente patrón usando un ciclo for.\n",
        "\n",
        "```\n",
        "+\n",
        "++\n",
        "+++\n",
        "++++\n",
        "+++++\n",
        "```"
      ],
      "metadata": {
        "id": "mu_I9C0qHuAr"
      }
    },
    {
      "cell_type": "markdown",
      "source": [
        "4. Patrones avanzados\n",
        "\n",
        "a) Imprime el siguiente patrón usando un ciclo for:\n",
        "\n",
        "```\n",
        "@\n",
        "++\n",
        "+++\n",
        "++++\n",
        "+++++\n",
        "++++\n",
        "+++\n",
        "++\n",
        "@\n",
        "```\n",
        "b) Recuerda que puedes usar condicionales"
      ],
      "metadata": {
        "id": "3bQD3tJpH_57"
      }
    },
    {
      "cell_type": "code",
      "source": [
        "count = 10\n",
        "print('@')\n",
        "for i in range(1, 9):\n",
        "  count -= 1\n",
        "  if i >= 2 and i <= 5:\n",
        "    print('+' * i)\n",
        "\n",
        "  elif i > 5:\n",
        "    print('+' * count)\n",
        "  \n",
        "\n",
        "print('@')"
      ],
      "metadata": {
        "id": "J9l26dvNIlHN"
      },
      "execution_count": null,
      "outputs": []
    },
    {
      "cell_type": "markdown",
      "source": [
        "5. Valor máximo y mínimo <br>\n",
        "Usando un ciclo for, encuentra el valor máximo y el mínimo del siguiente conjunto de números:\n",
        "\n",
        "10,-10.0, 49.6, 11.8, -1.5, -33.3, -40.4, 51.6, 82.1, 46.8, 60.8, -88.6, -35.7, -63.7, -51.5, -48.6, 18.6, -97.9, 67.8, -14.9, -38.8, -99.1, 16.7, -84.7, 30.5, -29.4, -13.2, -93.1, 1.3, 17.2, -72.7, 56.9, 90.0, -73.8, -87.4, -37.6, -94.3, -63.1, 57.8, -26.3, -5.3, 81.0, 31.1, -2.3, -39.5, 30.6, 24.5, -84.9, 47.7, 19.4, -87.2, 99.3, 54.1, -28.2, -71.2, 84.7, -83.3, -67.7, 86.7, -52.5, 56.0, 83.3, 49.0, -97.3, 2.6, 80.8, -55.2, -68.7, 58.8, 42.1, 2.2, 6.7, 82.6, 19.3, 47.3, 40.2, 25.3, 92.3, 64.5, 34.3, -83.5, -25.1, -44.4, 50.4, -99.3, -38.4, -68.1, -8.7, -35.8, 40.6, -67.2, -75.6, 77.8, 53.9, -60.4, -88.2, -61.8, -16.3, 78.6, 73.5, 49.8"
      ],
      "metadata": {
        "id": "vjsN7wllCl8f"
      }
    },
    {
      "cell_type": "code",
      "source": [
        "numeros_list = [\n",
        "    10,-10.0, 49.6, 11.8, -1.5, -33.3, -40.4, 51.6, 82.1, 46.8, 60.8, -88.6,\n",
        "    -35.7, -63.7, -51.5, -48.6, 18.6, -97.9, 67.8, -14.9, -38.8, -99.1, 16.7,\n",
        "    -84.7, 30.5, -29.4, -13.2, -93.1, 1.3, 17.2, -72.7, 56.9, 90.0, -73.8,\n",
        "    -87.4, -37.6, -94.3, -63.1, 57.8, -26.3, -5.3, 81.0, 31.1, -2.3, -39.5,\n",
        "    30.6, 24.5, -84.9, 47.7, 19.4, -87.2, 99.3, 54.1, -28.2, -71.2, 84.7, \n",
        "    -83.3, -67.7, 86.7, -52.5, 56.0, 83.3, 49.0, -97.3, 2.6, 80.8, -55.2, \n",
        "    -68.7, 58.8, 42.1, 2.2, 6.7, 82.6, 19.3, 47.3, 40.2, 25.3, 92.3, 64.5,\n",
        "    34.3, -83.5, -25.1, -44.4, 50.4, -99.3, -38.4, -68.1, -8.7, -35.8, 40.6,\n",
        "    -67.2, -75.6, 77.8, 53.9, -60.4, -88.2, -61.8, -16.3, 78.6, 73.5, 49.8\n",
        "]\n"
      ],
      "metadata": {
        "id": "VPeX3H-sChed"
      },
      "execution_count": null,
      "outputs": []
    },
    {
      "cell_type": "code",
      "source": [
        "max(numeros_list)"
      ],
      "metadata": {
        "id": "AXa0MK0LvxvN"
      },
      "execution_count": null,
      "outputs": []
    },
    {
      "cell_type": "code",
      "source": [
        "min(numeros_list)"
      ],
      "metadata": {
        "id": "eCdzBEjZznPC"
      },
      "execution_count": null,
      "outputs": []
    },
    {
      "cell_type": "code",
      "source": [
        "maximo = None\n",
        "minimo = None\n",
        "for n in numeros_list:\n",
        "  if not maximo:\n",
        "    maximo = n\n",
        "\n",
        "  if not minimo:\n",
        "    minimo = n\n",
        "  \n",
        "  if maximo < n:\n",
        "    maximo = n\n",
        "\n",
        "  if minimo > n:\n",
        "    minimo = n\n",
        "  \n",
        "print(maximo)\n",
        "print(minimo)"
      ],
      "metadata": {
        "id": "Bg5U1oBSuX-g"
      },
      "execution_count": null,
      "outputs": []
    },
    {
      "cell_type": "markdown",
      "source": [
        "6. Tablas de multiplicar <br>\n",
        "a) Usando un ciclo for, para genera las tablas de multiplicar del 1 al 10. <br>\n",
        "b) Usa un ciclo for anidado <br>\n",
        "c) Recuerda usar los f-string para manejar los prints <br>\n",
        "\n",
        "Ejemplo del output esperado:\n",
        "\n",
        "```\n",
        "== Tabla del 2 ==\n",
        "\n",
        "2 x 1 = 2\n",
        ".\n",
        ".\n",
        ".\n",
        "2 x 10 = 20\n",
        "\n",
        "== Tabla del 3 ==\n",
        "\n",
        "3 x 1 = 3\n",
        ".\n",
        ".\n",
        ".\n",
        "3 x 10 = 30\n",
        "\n",
        "```"
      ],
      "metadata": {
        "id": "vNgpV4vRFsVO"
      }
    },
    {
      "cell_type": "code",
      "source": [],
      "metadata": {
        "id": "Ed3rzg6uGkZ6"
      },
      "execution_count": null,
      "outputs": []
    },
    {
      "cell_type": "markdown",
      "source": [
        "7. Procesamiento de lenguaje natural\n",
        "\n",
        "a) **Primer reto:** Usando un ciclo for, encuentra el número de veces que se repite cada vocal usando el siguiente fragmento del libro de Drácula de Bram Stoker:\n",
        "<br><br>\n",
        "\n",
        "8 de mayo. Cuando comencé a escribir este libro temí que me estuviese explayando demasiado; pero ahora me complace haber entrado en detalle desde un principio, pues hay algo tan extraño acerca de este lugar y de todas las cosas que suceden, que no puedo sino sentirme inquieto. <br> Desearía estar lejos de aquí, o jamás haber venido. Puede ser que esta extraña existencia de noche me esté afectando, ¡pero cómo desearía que eso fuese todo! <br>Si hubiese alguien con quien pudiera hablar creo que lo soportaría, pero no hay nadie. Sólo tengo al conde para hablar, ¡y él...! Temo ser la única alma viviente el lugar.\n",
        "<br><br>\n",
        "**Recomendaciones:**\n",
        "- Usa el método **lower** para convertir todo a minúsculas\n",
        "- Usa el ciclo for para el conteo de las vocales. Crea una contador por vocal.\n",
        "- Usa condicionales\n",
        "- Usa los operadores de comparación\n",
        "<br><br>\n",
        "\n",
        "b) **Segundo reto:** Como parte del preprocesamiento del texto, es necesario eliminar palabras stopwords, las cuales son palabras muy comúnes pero que aportan poco valor sobre la comprensión del texto. <br>\n",
        "\n",
        "El reto consiste en eliminar las siguietnes palabras del texto: <br>\n",
        "`a, de, la, al, mucho, hubiese, con, lo, que, el`\n",
        "<br><br>\n",
        "\n",
        "**Recomendaciones:**\n",
        "- Usa el método **lower** para convertir todo a minúsculas\n",
        "- Usa el método split para crear una lista de palabras\n",
        "- Itera sobre las palabras\n",
        "- Usa condicionales y el operador **not in** para verificar si la palabra se encuentra en el listado de palabras a excluir\n",
        "\n"
      ],
      "metadata": {
        "id": "sNNv4VDKCycB"
      }
    },
    {
      "cell_type": "code",
      "source": [],
      "metadata": {
        "id": "4qI2TbOfFpYU"
      },
      "execution_count": null,
      "outputs": []
    }
  ]
}