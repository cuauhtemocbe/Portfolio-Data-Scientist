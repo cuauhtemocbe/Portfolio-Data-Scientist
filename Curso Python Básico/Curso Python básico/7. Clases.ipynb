{
  "nbformat": 4,
  "nbformat_minor": 0,
  "metadata": {
    "colab": {
      "provenance": [],
      "authorship_tag": "ABX9TyPcNp+tqkZ8UzV13u3tYewl",
      "include_colab_link": true
    },
    "kernelspec": {
      "name": "python3",
      "display_name": "Python 3"
    },
    "language_info": {
      "name": "python"
    }
  },
  "cells": [
    {
      "cell_type": "markdown",
      "metadata": {
        "id": "view-in-github",
        "colab_type": "text"
      },
      "source": [
        "<a href=\"https://colab.research.google.com/github/cuauhtemocbe/Python-Basics/blob/main/7. Clases.ipynb\" target=\"_parent\"><img src=\"https://colab.research.google.com/assets/colab-badge.svg\" alt=\"Open In Colab\"/></a>"
      ]
    },
    {
      "cell_type": "code",
      "source": [
        "type(1)"
      ],
      "metadata": {
        "colab": {
          "base_uri": "https://localhost:8080/"
        },
        "id": "EgmlsOWfyLMN",
        "outputId": "0105955a-2de8-4a0a-860b-b6b325209c89"
      },
      "execution_count": null,
      "outputs": [
        {
          "output_type": "execute_result",
          "data": {
            "text/plain": [
              "int"
            ]
          },
          "metadata": {},
          "execution_count": 3
        }
      ]
    },
    {
      "cell_type": "code",
      "source": [
        "help(1)"
      ],
      "metadata": {
        "colab": {
          "base_uri": "https://localhost:8080/"
        },
        "id": "JPYDB3GZDZQO",
        "outputId": "bcde64f3-400a-45d8-98ef-9ae2cd16a92e"
      },
      "execution_count": null,
      "outputs": [
        {
          "output_type": "stream",
          "name": "stdout",
          "text": [
            "Help on int object:\n",
            "\n",
            "class int(object)\n",
            " |  int([x]) -> integer\n",
            " |  int(x, base=10) -> integer\n",
            " |  \n",
            " |  Convert a number or string to an integer, or return 0 if no arguments\n",
            " |  are given.  If x is a number, return x.__int__().  For floating point\n",
            " |  numbers, this truncates towards zero.\n",
            " |  \n",
            " |  If x is not a number or if base is given, then x must be a string,\n",
            " |  bytes, or bytearray instance representing an integer literal in the\n",
            " |  given base.  The literal can be preceded by '+' or '-' and be surrounded\n",
            " |  by whitespace.  The base defaults to 10.  Valid bases are 0 and 2-36.\n",
            " |  Base 0 means to interpret the base from the string as an integer literal.\n",
            " |  >>> int('0b100', base=0)\n",
            " |  4\n",
            " |  \n",
            " |  Methods defined here:\n",
            " |  \n",
            " |  __abs__(self, /)\n",
            " |      abs(self)\n",
            " |  \n",
            " |  __add__(self, value, /)\n",
            " |      Return self+value.\n",
            " |  \n",
            " |  __and__(self, value, /)\n",
            " |      Return self&value.\n",
            " |  \n",
            " |  __bool__(self, /)\n",
            " |      self != 0\n",
            " |  \n",
            " |  __ceil__(...)\n",
            " |      Ceiling of an Integral returns itself.\n",
            " |  \n",
            " |  __divmod__(self, value, /)\n",
            " |      Return divmod(self, value).\n",
            " |  \n",
            " |  __eq__(self, value, /)\n",
            " |      Return self==value.\n",
            " |  \n",
            " |  __float__(self, /)\n",
            " |      float(self)\n",
            " |  \n",
            " |  __floor__(...)\n",
            " |      Flooring an Integral returns itself.\n",
            " |  \n",
            " |  __floordiv__(self, value, /)\n",
            " |      Return self//value.\n",
            " |  \n",
            " |  __format__(self, format_spec, /)\n",
            " |      Default object formatter.\n",
            " |  \n",
            " |  __ge__(self, value, /)\n",
            " |      Return self>=value.\n",
            " |  \n",
            " |  __getattribute__(self, name, /)\n",
            " |      Return getattr(self, name).\n",
            " |  \n",
            " |  __getnewargs__(self, /)\n",
            " |  \n",
            " |  __gt__(self, value, /)\n",
            " |      Return self>value.\n",
            " |  \n",
            " |  __hash__(self, /)\n",
            " |      Return hash(self).\n",
            " |  \n",
            " |  __index__(self, /)\n",
            " |      Return self converted to an integer, if self is suitable for use as an index into a list.\n",
            " |  \n",
            " |  __int__(self, /)\n",
            " |      int(self)\n",
            " |  \n",
            " |  __invert__(self, /)\n",
            " |      ~self\n",
            " |  \n",
            " |  __le__(self, value, /)\n",
            " |      Return self<=value.\n",
            " |  \n",
            " |  __lshift__(self, value, /)\n",
            " |      Return self<<value.\n",
            " |  \n",
            " |  __lt__(self, value, /)\n",
            " |      Return self<value.\n",
            " |  \n",
            " |  __mod__(self, value, /)\n",
            " |      Return self%value.\n",
            " |  \n",
            " |  __mul__(self, value, /)\n",
            " |      Return self*value.\n",
            " |  \n",
            " |  __ne__(self, value, /)\n",
            " |      Return self!=value.\n",
            " |  \n",
            " |  __neg__(self, /)\n",
            " |      -self\n",
            " |  \n",
            " |  __or__(self, value, /)\n",
            " |      Return self|value.\n",
            " |  \n",
            " |  __pos__(self, /)\n",
            " |      +self\n",
            " |  \n",
            " |  __pow__(self, value, mod=None, /)\n",
            " |      Return pow(self, value, mod).\n",
            " |  \n",
            " |  __radd__(self, value, /)\n",
            " |      Return value+self.\n",
            " |  \n",
            " |  __rand__(self, value, /)\n",
            " |      Return value&self.\n",
            " |  \n",
            " |  __rdivmod__(self, value, /)\n",
            " |      Return divmod(value, self).\n",
            " |  \n",
            " |  __repr__(self, /)\n",
            " |      Return repr(self).\n",
            " |  \n",
            " |  __rfloordiv__(self, value, /)\n",
            " |      Return value//self.\n",
            " |  \n",
            " |  __rlshift__(self, value, /)\n",
            " |      Return value<<self.\n",
            " |  \n",
            " |  __rmod__(self, value, /)\n",
            " |      Return value%self.\n",
            " |  \n",
            " |  __rmul__(self, value, /)\n",
            " |      Return value*self.\n",
            " |  \n",
            " |  __ror__(self, value, /)\n",
            " |      Return value|self.\n",
            " |  \n",
            " |  __round__(...)\n",
            " |      Rounding an Integral returns itself.\n",
            " |      Rounding with an ndigits argument also returns an integer.\n",
            " |  \n",
            " |  __rpow__(self, value, mod=None, /)\n",
            " |      Return pow(value, self, mod).\n",
            " |  \n",
            " |  __rrshift__(self, value, /)\n",
            " |      Return value>>self.\n",
            " |  \n",
            " |  __rshift__(self, value, /)\n",
            " |      Return self>>value.\n",
            " |  \n",
            " |  __rsub__(self, value, /)\n",
            " |      Return value-self.\n",
            " |  \n",
            " |  __rtruediv__(self, value, /)\n",
            " |      Return value/self.\n",
            " |  \n",
            " |  __rxor__(self, value, /)\n",
            " |      Return value^self.\n",
            " |  \n",
            " |  __sizeof__(self, /)\n",
            " |      Returns size in memory, in bytes.\n",
            " |  \n",
            " |  __str__(self, /)\n",
            " |      Return str(self).\n",
            " |  \n",
            " |  __sub__(self, value, /)\n",
            " |      Return self-value.\n",
            " |  \n",
            " |  __truediv__(self, value, /)\n",
            " |      Return self/value.\n",
            " |  \n",
            " |  __trunc__(...)\n",
            " |      Truncating an Integral returns itself.\n",
            " |  \n",
            " |  __xor__(self, value, /)\n",
            " |      Return self^value.\n",
            " |  \n",
            " |  bit_length(self, /)\n",
            " |      Number of bits necessary to represent self in binary.\n",
            " |      \n",
            " |      >>> bin(37)\n",
            " |      '0b100101'\n",
            " |      >>> (37).bit_length()\n",
            " |      6\n",
            " |  \n",
            " |  conjugate(...)\n",
            " |      Returns self, the complex conjugate of any int.\n",
            " |  \n",
            " |  to_bytes(self, /, length, byteorder, *, signed=False)\n",
            " |      Return an array of bytes representing an integer.\n",
            " |      \n",
            " |      length\n",
            " |        Length of bytes object to use.  An OverflowError is raised if the\n",
            " |        integer is not representable with the given number of bytes.\n",
            " |      byteorder\n",
            " |        The byte order used to represent the integer.  If byteorder is 'big',\n",
            " |        the most significant byte is at the beginning of the byte array.  If\n",
            " |        byteorder is 'little', the most significant byte is at the end of the\n",
            " |        byte array.  To request the native byte order of the host system, use\n",
            " |        `sys.byteorder' as the byte order value.\n",
            " |      signed\n",
            " |        Determines whether two's complement is used to represent the integer.\n",
            " |        If signed is False and a negative integer is given, an OverflowError\n",
            " |        is raised.\n",
            " |  \n",
            " |  ----------------------------------------------------------------------\n",
            " |  Class methods defined here:\n",
            " |  \n",
            " |  from_bytes(bytes, byteorder, *, signed=False) from builtins.type\n",
            " |      Return the integer represented by the given array of bytes.\n",
            " |      \n",
            " |      bytes\n",
            " |        Holds the array of bytes to convert.  The argument must either\n",
            " |        support the buffer protocol or be an iterable object producing bytes.\n",
            " |        Bytes and bytearray are examples of built-in objects that support the\n",
            " |        buffer protocol.\n",
            " |      byteorder\n",
            " |        The byte order used to represent the integer.  If byteorder is 'big',\n",
            " |        the most significant byte is at the beginning of the byte array.  If\n",
            " |        byteorder is 'little', the most significant byte is at the end of the\n",
            " |        byte array.  To request the native byte order of the host system, use\n",
            " |        `sys.byteorder' as the byte order value.\n",
            " |      signed\n",
            " |        Indicates whether two's complement is used to represent the integer.\n",
            " |  \n",
            " |  ----------------------------------------------------------------------\n",
            " |  Static methods defined here:\n",
            " |  \n",
            " |  __new__(*args, **kwargs) from builtins.type\n",
            " |      Create and return a new object.  See help(type) for accurate signature.\n",
            " |  \n",
            " |  ----------------------------------------------------------------------\n",
            " |  Data descriptors defined here:\n",
            " |  \n",
            " |  denominator\n",
            " |      the denominator of a rational number in lowest terms\n",
            " |  \n",
            " |  imag\n",
            " |      the imaginary part of a complex number\n",
            " |  \n",
            " |  numerator\n",
            " |      the numerator of a rational number in lowest terms\n",
            " |  \n",
            " |  real\n",
            " |      the real part of a complex number\n",
            "\n"
          ]
        }
      ]
    },
    {
      "cell_type": "code",
      "execution_count": null,
      "metadata": {
        "id": "CnypRUntvM1L"
      },
      "outputs": [],
      "source": [
        "class NavajaSuiza:\n",
        "  pass"
      ]
    },
    {
      "cell_type": "code",
      "source": [
        "navaja = NavajaSuiza()"
      ],
      "metadata": {
        "id": "moEQj_JYACYq"
      },
      "execution_count": null,
      "outputs": []
    },
    {
      "cell_type": "code",
      "source": [
        "type(navaja)"
      ],
      "metadata": {
        "colab": {
          "base_uri": "https://localhost:8080/"
        },
        "id": "hWmdjeZO_Od-",
        "outputId": "e153bc51-a951-4326-b2f7-6e85a6f0a732"
      },
      "execution_count": null,
      "outputs": [
        {
          "output_type": "execute_result",
          "data": {
            "text/plain": [
              "__main__.NavajaSuiza"
            ]
          },
          "metadata": {},
          "execution_count": 7
        }
      ]
    },
    {
      "cell_type": "code",
      "source": [
        "help(NavajaSuiza)"
      ],
      "metadata": {
        "colab": {
          "base_uri": "https://localhost:8080/"
        },
        "id": "3r75-tHR_KKo",
        "outputId": "e48f0d6f-ff13-44a4-afb8-97949a8f8ae0"
      },
      "execution_count": null,
      "outputs": [
        {
          "output_type": "stream",
          "name": "stdout",
          "text": [
            "Help on class NavajaSuiza in module __main__:\n",
            "\n",
            "class NavajaSuiza(builtins.object)\n",
            " |  Data descriptors defined here:\n",
            " |  \n",
            " |  __dict__\n",
            " |      dictionary for instance variables (if defined)\n",
            " |  \n",
            " |  __weakref__\n",
            " |      list of weak references to the object (if defined)\n",
            "\n"
          ]
        }
      ]
    },
    {
      "cell_type": "code",
      "source": [
        "class NavajaSuiza:\n",
        "  def print_tools(self):\n",
        "    \"\"\"Imprime las herramientas que incluye la navaja\"\"\"\n",
        "    print('Mi navaja contiene: \\n Navaja, cuchillo, destornillador, lima, abrebotellas')"
      ],
      "metadata": {
        "id": "530fAoltALg7"
      },
      "execution_count": null,
      "outputs": []
    },
    {
      "cell_type": "code",
      "source": [
        "navaja = NavajaSuiza()\n",
        "navaja.print_tools()"
      ],
      "metadata": {
        "colab": {
          "base_uri": "https://localhost:8080/"
        },
        "id": "DfLyY1-HAg0C",
        "outputId": "d9424a05-853e-44af-fdad-a6e39d19ca24"
      },
      "execution_count": null,
      "outputs": [
        {
          "output_type": "stream",
          "name": "stdout",
          "text": [
            "Mi navaja contiene: \n",
            " Navaja, cuchillo, destornillador, lima, abrebotellas\n"
          ]
        }
      ]
    },
    {
      "cell_type": "code",
      "source": [
        "def print_tools():\n",
        "    \"\"\"Imprime las herramientas que incluye la navaja\"\"\"\n",
        "    print('Mi navaja contiene: \\n Navaja, cuchillo, destornillador, lima, abrebotellas')\n",
        "\n",
        "print_tools()"
      ],
      "metadata": {
        "colab": {
          "base_uri": "https://localhost:8080/"
        },
        "id": "D_30y84jBbn3",
        "outputId": "868e3455-934e-4199-eb0b-e33232fceb6f"
      },
      "execution_count": null,
      "outputs": [
        {
          "output_type": "stream",
          "name": "stdout",
          "text": [
            "Mi navaja contiene: \n",
            " Navaja, cuchillo, destornillador, lima, abrebotellas\n"
          ]
        }
      ]
    },
    {
      "cell_type": "code",
      "source": [
        "class NavajaSuiza:\n",
        "  def print_tools(self):\n",
        "    \"\"\"Imprime las herramientas que incluye la navaja\"\"\"\n",
        "    print('Mi navaja contiene: \\n Navaja, cuchillo, destornillador, lima, abrebotellas')\n",
        "\n",
        "navaja = NavajaSuiza()\n",
        "navaja.print_tools()"
      ],
      "metadata": {
        "colab": {
          "base_uri": "https://localhost:8080/"
        },
        "id": "76DLoM7ZB9C5",
        "outputId": "9adf46ce-b823-4772-8e41-5aaea88bf780"
      },
      "execution_count": null,
      "outputs": [
        {
          "output_type": "stream",
          "name": "stdout",
          "text": [
            "Mi navaja contiene: \n",
            " Navaja, cuchillo, destornillador, lima, abrebotellas\n"
          ]
        }
      ]
    },
    {
      "cell_type": "code",
      "source": [
        "class NavajaSuiza:\n",
        "  def imprimir_herramientas(self):\n",
        "    \"\"\"Imprime las herramientas que incluye la navaja\"\"\"\n",
        "    print('Mi navaja contiene: \\n Navaja, cuchillo, destornillador, lima, abrebotellas')\n",
        "\n",
        "  def cortar(self):\n",
        "    print('Estoy cortando')\n",
        "\n",
        "  def abrir_botella(self):\n",
        "    print('Estoy abriendo una botella')"
      ],
      "metadata": {
        "id": "B4o-9tuzCCLr"
      },
      "execution_count": null,
      "outputs": []
    },
    {
      "cell_type": "code",
      "source": [
        "navaja = NavajaSuiza()\n",
        "\n",
        "navaja.cortar()"
      ],
      "metadata": {
        "colab": {
          "base_uri": "https://localhost:8080/"
        },
        "id": "ZX_d3ErNCUlj",
        "outputId": "7153caac-b945-4394-9601-277b226004ee"
      },
      "execution_count": null,
      "outputs": [
        {
          "output_type": "stream",
          "name": "stdout",
          "text": [
            "Estoy cortando\n"
          ]
        }
      ]
    },
    {
      "cell_type": "code",
      "source": [
        "navaja.abrir_botella()"
      ],
      "metadata": {
        "colab": {
          "base_uri": "https://localhost:8080/"
        },
        "id": "cn8XQVG5CXMQ",
        "outputId": "bf982aef-80a5-46be-c7a3-24029ee89c52"
      },
      "execution_count": null,
      "outputs": [
        {
          "output_type": "stream",
          "name": "stdout",
          "text": [
            "Estoy abriendo una botella\n"
          ]
        }
      ]
    },
    {
      "cell_type": "code",
      "source": [
        "class NavajaSuiza:\n",
        "  def imprimir_herramientas(self):\n",
        "    \"\"\"Imprime las herramientas que incluye la navaja\"\"\"\n",
        "    print('Mi navaja contiene: \\n Navaja, cuchillo, destornillador, lima, abrebotellas')\n",
        "\n",
        "  def cortar(self): # Modificar para que se parezca a botella\n",
        "    print('Estoy cortando')\n",
        "\n",
        "  def abrir_botella(self, botella=None):\n",
        "\n",
        "    if botella:\n",
        "      print('Estoy abriendo una botella de', botella.upper())\n",
        "\n",
        "    else:\n",
        "      print('Estoy abriendo una botella')\n",
        "\n",
        "  # Agregar un nuevo método"
      ],
      "metadata": {
        "id": "kBdzY5asCZT6"
      },
      "execution_count": null,
      "outputs": []
    },
    {
      "cell_type": "code",
      "source": [
        "navaja = NavajaSuiza()"
      ],
      "metadata": {
        "id": "58-UmielCmvs"
      },
      "execution_count": null,
      "outputs": []
    },
    {
      "cell_type": "code",
      "source": [
        "navaja.abrir_botella()"
      ],
      "metadata": {
        "colab": {
          "base_uri": "https://localhost:8080/"
        },
        "id": "ZtlULSGsCndN",
        "outputId": "c5adb81e-ea8a-4e82-83e4-6007f4f60583"
      },
      "execution_count": null,
      "outputs": [
        {
          "output_type": "stream",
          "name": "stdout",
          "text": [
            "Estoy abriendo una botella\n"
          ]
        }
      ]
    },
    {
      "cell_type": "code",
      "source": [
        "navaja.abrir_botella('vino')"
      ],
      "metadata": {
        "colab": {
          "base_uri": "https://localhost:8080/"
        },
        "id": "xzACxMyGCpiq",
        "outputId": "cd3d6015-6b05-4cb2-c8e1-1ad2c68d2f39"
      },
      "execution_count": null,
      "outputs": [
        {
          "output_type": "stream",
          "name": "stdout",
          "text": [
            "Estoy abriendo una botella de VINO\n"
          ]
        }
      ]
    },
    {
      "cell_type": "code",
      "source": [
        "class NavajaSuiza:\n",
        "  def imprimir_herramientas(self):\n",
        "    \"\"\"Imprime las herramientas que incluye la navaja\"\"\"\n",
        "    print('Mi navaja contiene: \\n Navaja, cuchillo, destornillador, lima, abrebotellas')\n",
        "\n",
        "  def __init__():\n",
        "    \"\"\" El método especial __init__() nos permite crear objetos con\n",
        "    un estado inicial\"\"\"\n",
        "    print('Soy una navaja suiza')\n",
        "\n",
        "    # Agregar color\n",
        "    \n",
        "\n",
        "  def cortar(self): # Modificar para que se parezca a botella\n",
        "    print('Estoy cortando')\n",
        "\n",
        "  def abrir_botella(self, botella=None):\n",
        "\n",
        "    if botella:\n",
        "      print('Estoy abriendo una botella de', botella.upper())\n",
        "\n",
        "    else:\n",
        "      print('Estoy abriendo una botella')\n",
        "\n",
        "  # Agregar un nuevo método"
      ],
      "metadata": {
        "id": "JWdzdMPOLsr3"
      },
      "execution_count": null,
      "outputs": []
    },
    {
      "cell_type": "code",
      "source": [
        "navaja = NavajaSuiza()"
      ],
      "metadata": {
        "id": "h60tPtYOMTs7"
      },
      "execution_count": null,
      "outputs": []
    },
    {
      "cell_type": "markdown",
      "source": [
        "## Herencia"
      ],
      "metadata": {
        "id": "aycTe3i_JvZu"
      }
    },
    {
      "cell_type": "markdown",
      "source": [
        "La herencia es una de las premisas y técnicas de la POO la cual permite a los programadores crear una clase general primero y luego más tarde crear clases más especializadas que re-utilicen código de la clase general. La herencia también le permite escribir un código más limpio y legible.\n",
        "\n",
        "https://entrenamiento-python-basico.readthedocs.io/es/latest/leccion9/herencia.html"
      ],
      "metadata": {
        "id": "HO-9ZBfmSi81"
      }
    },
    {
      "cell_type": "code",
      "source": [
        "help(Exception)"
      ],
      "metadata": {
        "id": "ysxsrnHpJ8wB"
      },
      "execution_count": null,
      "outputs": []
    },
    {
      "cell_type": "code",
      "source": [
        "class CustomError(Exception):\n",
        "  pass"
      ],
      "metadata": {
        "id": "BJKbcnNzJsA-"
      },
      "execution_count": null,
      "outputs": []
    },
    {
      "cell_type": "code",
      "source": [
        "class NoEsBotella(Exception):\n",
        "  \"\"\"Se muestra cuando el valor de entrada no es una herramienta\"\"\"\n",
        "  pass"
      ],
      "metadata": {
        "id": "2JyAFRnFJ7yB"
      },
      "execution_count": null,
      "outputs": []
    },
    {
      "cell_type": "code",
      "source": [
        "raise NoEsBotella()"
      ],
      "metadata": {
        "colab": {
          "base_uri": "https://localhost:8080/",
          "height": 170
        },
        "id": "cCO60sv9KGSM",
        "outputId": "b2f8f5c7-abf3-4109-b584-9c784bebcf37"
      },
      "execution_count": null,
      "outputs": [
        {
          "output_type": "error",
          "ename": "NoEsBotella",
          "evalue": "ignored",
          "traceback": [
            "\u001b[0;31m---------------------------------------------------------------------------\u001b[0m",
            "\u001b[0;31mNoEsBotella\u001b[0m                               Traceback (most recent call last)",
            "\u001b[0;32m<ipython-input-107-35b3b9d879df>\u001b[0m in \u001b[0;36m<module>\u001b[0;34m()\u001b[0m\n\u001b[0;32m----> 1\u001b[0;31m \u001b[0;32mraise\u001b[0m \u001b[0mNoEsBotella\u001b[0m\u001b[0;34m(\u001b[0m\u001b[0;34m)\u001b[0m\u001b[0;34m\u001b[0m\u001b[0;34m\u001b[0m\u001b[0m\n\u001b[0m",
            "\u001b[0;31mNoEsBotella\u001b[0m: "
          ]
        }
      ]
    },
    {
      "cell_type": "code",
      "source": [
        "class NoEsBotella(Exception):\n",
        "    def __init__(self, valor):\n",
        "        self.message = f'El valor `{valor}` NO es una botella'\n",
        "        \n",
        "    def __str__(self):\n",
        "        return self.message"
      ],
      "metadata": {
        "id": "oEFlKn6vN25h"
      },
      "execution_count": null,
      "outputs": []
    },
    {
      "cell_type": "code",
      "source": [
        "raise NoEsBotella('pintura')"
      ],
      "metadata": {
        "colab": {
          "base_uri": "https://localhost:8080/",
          "height": 170
        },
        "id": "qtKdNi4iQoy2",
        "outputId": "fbf89d26-563c-4888-cb16-219f9e550833"
      },
      "execution_count": null,
      "outputs": [
        {
          "output_type": "error",
          "ename": "NoEsBotella",
          "evalue": "ignored",
          "traceback": [
            "\u001b[0;31m---------------------------------------------------------------------------\u001b[0m",
            "\u001b[0;31mNoEsBotella\u001b[0m                               Traceback (most recent call last)",
            "\u001b[0;32m<ipython-input-118-9e7fc1481229>\u001b[0m in \u001b[0;36m<module>\u001b[0;34m()\u001b[0m\n\u001b[0;32m----> 1\u001b[0;31m \u001b[0;32mraise\u001b[0m \u001b[0mNoEsBotella\u001b[0m\u001b[0;34m(\u001b[0m\u001b[0;34m'pintura'\u001b[0m\u001b[0;34m)\u001b[0m\u001b[0;34m\u001b[0m\u001b[0;34m\u001b[0m\u001b[0m\n\u001b[0m",
            "\u001b[0;31mNoEsBotella\u001b[0m: El valor `pintura` NO es una botella"
          ]
        }
      ]
    },
    {
      "cell_type": "code",
      "source": [
        "botella = 'refri'\n",
        "if botella not in ['cerveza', 'vino', 'refresco']:\n",
        "  raise NoEsBotella(botella)\n",
        "\n",
        "else:\n",
        "  print(f'Si es botella de {botella}, lo puedo abrir')"
      ],
      "metadata": {
        "colab": {
          "base_uri": "https://localhost:8080/",
          "height": 242
        },
        "id": "Zg2FqDTBNPdS",
        "outputId": "2a73ef19-55f0-4410-bf4e-0ad5c3154d17"
      },
      "execution_count": null,
      "outputs": [
        {
          "output_type": "error",
          "ename": "NoEsBotella",
          "evalue": "ignored",
          "traceback": [
            "\u001b[0;31m---------------------------------------------------------------------------\u001b[0m",
            "\u001b[0;31mNoEsBotella\u001b[0m                               Traceback (most recent call last)",
            "\u001b[0;32m<ipython-input-116-d54a601d9325>\u001b[0m in \u001b[0;36m<module>\u001b[0;34m()\u001b[0m\n\u001b[1;32m      1\u001b[0m \u001b[0mbotella\u001b[0m \u001b[0;34m=\u001b[0m \u001b[0;34m'refri'\u001b[0m\u001b[0;34m\u001b[0m\u001b[0;34m\u001b[0m\u001b[0m\n\u001b[1;32m      2\u001b[0m \u001b[0;32mif\u001b[0m \u001b[0mbotella\u001b[0m \u001b[0;32mnot\u001b[0m \u001b[0;32min\u001b[0m \u001b[0;34m[\u001b[0m\u001b[0;34m'cerveza'\u001b[0m\u001b[0;34m,\u001b[0m \u001b[0;34m'vino'\u001b[0m\u001b[0;34m,\u001b[0m \u001b[0;34m'refresco'\u001b[0m\u001b[0;34m]\u001b[0m\u001b[0;34m:\u001b[0m\u001b[0;34m\u001b[0m\u001b[0;34m\u001b[0m\u001b[0m\n\u001b[0;32m----> 3\u001b[0;31m   \u001b[0;32mraise\u001b[0m \u001b[0mNoEsBotella\u001b[0m\u001b[0;34m(\u001b[0m\u001b[0mbotella\u001b[0m\u001b[0;34m)\u001b[0m\u001b[0;34m\u001b[0m\u001b[0;34m\u001b[0m\u001b[0m\n\u001b[0m\u001b[1;32m      4\u001b[0m \u001b[0;34m\u001b[0m\u001b[0m\n\u001b[1;32m      5\u001b[0m \u001b[0;32melse\u001b[0m\u001b[0;34m:\u001b[0m\u001b[0;34m\u001b[0m\u001b[0;34m\u001b[0m\u001b[0m\n",
            "\u001b[0;31mNoEsBotella\u001b[0m: El valor refri NO es una botella"
          ]
        }
      ]
    },
    {
      "cell_type": "code",
      "source": [],
      "metadata": {
        "id": "c9ifmwOvRREu"
      },
      "execution_count": null,
      "outputs": []
    }
  ]
}
