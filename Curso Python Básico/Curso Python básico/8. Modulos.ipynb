{
  "nbformat": 4,
  "nbformat_minor": 0,
  "metadata": {
    "colab": {
      "provenance": [],
      "authorship_tag": "ABX9TyPWIA2X9SikJuaodvVYP063",
      "include_colab_link": true
    },
    "kernelspec": {
      "name": "python3",
      "display_name": "Python 3"
    },
    "language_info": {
      "name": "python"
    }
  },
  "cells": [
    {
      "cell_type": "markdown",
      "metadata": {
        "id": "view-in-github",
        "colab_type": "text"
      },
      "source": [
        "<a href=\"https://colab.research.google.com/github/cuauhtemocbe/Python-Basics/blob/main/8. Modulos.ipynb\" target=\"_parent\"><img src=\"https://colab.research.google.com/assets/colab-badge.svg\" alt=\"Open In Colab\"/></a>"
      ]
    },
    {
      "cell_type": "markdown",
      "metadata": {
        "id": "9Az3MvFf5txL"
      },
      "source": [
        "# Módulos\n",
        "\n",
        "## ¿Qué es un módulo?\n",
        "Nos permite mantener organizado nuestro código: funciones, clases, variables y código ejecutable \n",
        "<br>\n",
        "Un módulo es un objeto de Python al que nos podemos enlazar.\n",
        "<br>\n",
        "- Tiene una extensión **.py**\n",
        "- Los modulos pueden ser importados en otros módulos, para evitar copiar y pegar una función en otros lados.\n",
        "- Mantener organizado el código\n",
        "- Ayuda a que nuestro código sea mantenible\n"
      ]
    },
    {
      "cell_type": "markdown",
      "metadata": {
        "id": "jKNS5wfWgZED"
      },
      "source": [
        "## Estructura de un módulo\n",
        "\n",
        "mi_primer_modulo.py\n",
        "\n",
        "```python\n",
        "#!/usr/bin/python3         # Parte I\n",
        "#-*- coding: utf-8 -*-     # Parte II\n",
        "\n",
        "# Parte III\n",
        "\n",
        "\"\"\"Programa con funciones básicas aritméticas\"\"\"      \n",
        "\n",
        "# Variables del módulo\n",
        "\n",
        "__author__ = \"Cuauhtémoc\" # Parte IV\n",
        "__version__ = \"1.0\"\n",
        "__status__ = \"Development\"\n",
        "\n",
        "\n",
        "# Parte V\n",
        "\n",
        "import math\n",
        "\n",
        "# Parte VI\n",
        "\n",
        "VALOR_PI = round(math.pi, 7)\n",
        "\n",
        "def suma_dos_numeros(x, y):\n",
        "    \"\"\"Calcula la suma de dos números\"\"\"\n",
        "    return x + y\n",
        "\n",
        "def resta_dos_numeros(x, y):\n",
        "    \"\"\"Calcula la resta de dos números\"\"\"\n",
        "    return x - y\n",
        "\n",
        "# Parte VII\n",
        "\n",
        "if __name__ == \"__main__\":\n",
        "    x = int(input(\"Ingresa el primer número: \") )\n",
        "    y = int(input(\"Ingresa el segundo número: \")\n",
        "    resultado = suma_dos_numeros(x, y)\n",
        "    print(\"La suma de el número {x} + {y} = {resultado})\n",
        "\n",
        "    print('Cálculo finalizado')\n",
        "```"
      ]
    },
    {
      "cell_type": "markdown",
      "metadata": {
        "id": "10Ot92IHl7Cn"
      },
      "source": [
        "Entonces:\n",
        "<br>\n",
        "- Parte I y II son comentarios estándar. \n",
        "- Parte I nos dice donde esta el interprete localizado, así el sistema operativo sabrá que es un script de pyhon (Shebang line)\n",
        "- Parte II indica que el archivo esta codificado en **utf-8**, como parte del PEP, que recomienda definir las codificaciones del código fuente (Codificación)\n",
        "- III es una buena práctica descricribir la anotación del documento.  (Anotación del documento)\n",
        "- IV usa la variable `__author__` para escribir el autor del modulo\n",
        "- V la zona utilizada para colocar las librerías que necesita nuestro módulo\n",
        "- VI es donde ponemos nuestro código\n",
        "- VII es usado para que nuesto módulo pueda realizar dos acciones, uno si es importado desde otro módulo  o si se cumple la condición de ser el modulo principal(al ser ejecutado directamente en una consola), realizará lo que esta en el código. \n"
      ]
    },
    {
      "cell_type": "code",
      "source": [
        "import pandas"
      ],
      "metadata": {
        "id": "XwIV2-PQzLKH"
      },
      "execution_count": null,
      "outputs": []
    },
    {
      "cell_type": "code",
      "source": [
        "pandas.__version__"
      ],
      "metadata": {
        "colab": {
          "base_uri": "https://localhost:8080/",
          "height": 36
        },
        "id": "kXqBYA-EhfDg",
        "outputId": "b9253d19-e3c2-4ca5-cc6e-28709f7e084d"
      },
      "execution_count": null,
      "outputs": [
        {
          "output_type": "execute_result",
          "data": {
            "text/plain": [
              "'1.3.5'"
            ],
            "application/vnd.google.colaboratory.intrinsic+json": {
              "type": "string"
            }
          },
          "metadata": {},
          "execution_count": 2
        }
      ]
    },
    {
      "cell_type": "code",
      "metadata": {
        "id": "AY62k3cYgYfL",
        "colab": {
          "base_uri": "https://localhost:8080/"
        },
        "outputId": "8272cca6-18b0-47d1-9c83-aa35df1809e5"
      },
      "source": [
        "import pandas as pd\n",
        "\n",
        "print(f'Valor dentro de la variable especial __name__ : {pd.__name__}')"
      ],
      "execution_count": null,
      "outputs": [
        {
          "output_type": "stream",
          "name": "stdout",
          "text": [
            "Valor dentro de la variable especial __name__ : pandas\n"
          ]
        }
      ]
    },
    {
      "cell_type": "code",
      "source": [
        "pd.DataFrame?"
      ],
      "metadata": {
        "id": "IGAf6fUvzp2j"
      },
      "execution_count": null,
      "outputs": []
    },
    {
      "cell_type": "code",
      "metadata": {
        "id": "WDKZrMzbsz3U",
        "colab": {
          "base_uri": "https://localhost:8080/",
          "height": 36
        },
        "outputId": "5f0c7e27-a596-411b-c873-ef8cf06a7f0f"
      },
      "source": [
        "pd.__version__"
      ],
      "execution_count": null,
      "outputs": [
        {
          "output_type": "execute_result",
          "data": {
            "text/plain": [
              "'1.3.5'"
            ],
            "application/vnd.google.colaboratory.intrinsic+json": {
              "type": "string"
            }
          },
          "metadata": {},
          "execution_count": 10
        }
      ]
    },
    {
      "cell_type": "markdown",
      "metadata": {
        "id": "K96OKWvqdell"
      },
      "source": [
        "# Pip Instalador de Python\n",
        "\n",
        "Es un gestor de paquetes que nos utilizaremos para instalar y administrar paquetes de software (módulos)."
      ]
    },
    {
      "cell_type": "code",
      "source": [
        "import PyPDF2"
      ],
      "metadata": {
        "colab": {
          "base_uri": "https://localhost:8080/",
          "height": 315
        },
        "id": "SxToWLD6z5or",
        "outputId": "2801ad2f-fb09-41dd-f1c2-61659c5955c3"
      },
      "execution_count": null,
      "outputs": [
        {
          "output_type": "error",
          "ename": "ModuleNotFoundError",
          "evalue": "ignored",
          "traceback": [
            "\u001b[0;31m---------------------------------------------------------------------------\u001b[0m",
            "\u001b[0;31mModuleNotFoundError\u001b[0m                       Traceback (most recent call last)",
            "\u001b[0;32m<ipython-input-15-69e9e6162b4c>\u001b[0m in \u001b[0;36m<module>\u001b[0;34m()\u001b[0m\n\u001b[0;32m----> 1\u001b[0;31m \u001b[0;32mimport\u001b[0m \u001b[0mPyPDF2\u001b[0m\u001b[0;34m\u001b[0m\u001b[0;34m\u001b[0m\u001b[0m\n\u001b[0m",
            "\u001b[0;31mModuleNotFoundError\u001b[0m: No module named 'PyPDF2'",
            "",
            "\u001b[0;31m---------------------------------------------------------------------------\u001b[0;32m\nNOTE: If your import is failing due to a missing package, you can\nmanually install dependencies using either !pip or !apt.\n\nTo view examples of installing some common dependencies, click the\n\"Open Examples\" button below.\n\u001b[0;31m---------------------------------------------------------------------------\u001b[0m\n"
          ],
          "errorDetails": {
            "actions": [
              {
                "action": "open_url",
                "actionText": "Open Examples",
                "url": "/notebooks/snippets/importing_libraries.ipynb"
              }
            ]
          }
        }
      ]
    },
    {
      "cell_type": "code",
      "metadata": {
        "id": "2GuYk6YbdMW0",
        "colab": {
          "base_uri": "https://localhost:8080/"
        },
        "outputId": "3645ce0c-4897-4058-e7f9-735e735e6ff0"
      },
      "source": [
        "!pip install pandas"
      ],
      "execution_count": null,
      "outputs": [
        {
          "output_type": "stream",
          "name": "stdout",
          "text": [
            "Requirement already satisfied: pandas in /usr/local/lib/python3.7/dist-packages (1.3.5)\n",
            "Requirement already satisfied: pytz>=2017.3 in /usr/local/lib/python3.7/dist-packages (from pandas) (2022.1)\n",
            "Requirement already satisfied: numpy>=1.17.3 in /usr/local/lib/python3.7/dist-packages (from pandas) (1.21.6)\n",
            "Requirement already satisfied: python-dateutil>=2.7.3 in /usr/local/lib/python3.7/dist-packages (from pandas) (2.8.2)\n",
            "Requirement already satisfied: six>=1.5 in /usr/local/lib/python3.7/dist-packages (from python-dateutil>=2.7.3->pandas) (1.15.0)\n"
          ]
        }
      ]
    },
    {
      "cell_type": "code",
      "metadata": {
        "id": "aFD23GNxeIqQ",
        "colab": {
          "base_uri": "https://localhost:8080/"
        },
        "outputId": "a88bda73-1dc0-4ffb-884e-89445f0aeefa"
      },
      "source": [
        "!pip install PyPDF2"
      ],
      "execution_count": null,
      "outputs": [
        {
          "output_type": "stream",
          "name": "stdout",
          "text": [
            "Collecting PyPDF2\n",
            "  Downloading PyPDF2-1.27.8-py3-none-any.whl (69 kB)\n",
            "\u001b[?25l\r\u001b[K     |████▊                           | 10 kB 13.1 MB/s eta 0:00:01\r\u001b[K     |█████████▌                      | 20 kB 17.7 MB/s eta 0:00:01\r\u001b[K     |██████████████▎                 | 30 kB 13.7 MB/s eta 0:00:01\r\u001b[K     |███████████████████             | 40 kB 10.6 MB/s eta 0:00:01\r\u001b[K     |███████████████████████▊        | 51 kB 5.2 MB/s eta 0:00:01\r\u001b[K     |████████████████████████████▌   | 61 kB 6.0 MB/s eta 0:00:01\r\u001b[K     |████████████████████████████████| 69 kB 3.5 MB/s \n",
            "\u001b[?25hInstalling collected packages: PyPDF2\n",
            "Successfully installed PyPDF2-1.27.8\n"
          ]
        }
      ]
    },
    {
      "cell_type": "markdown",
      "metadata": {
        "id": "bIDGiMaaenxf"
      },
      "source": [
        "## Índice de paquetes de Python [PYPi](https://pypi.org/)\n",
        "\n",
        "<br>\n",
        "\n",
        "El **Python Package Index** o PyPI es un repositorio del software oficial de aplicaciones desarrolladas por terceros en Python.\n",
        "<br>\n",
        "Tiene como objetivo ser un catálogo exhaustivo de todos los paquetes de Python\n",
        "\n",
        "[Wikipedia](https://es.wikipedia.org/wiki/%C3%8Dndice_de_paquetes_de_Python)"
      ]
    },
    {
      "cell_type": "markdown",
      "metadata": {
        "id": "dilLUW7Sj2CV"
      },
      "source": [
        "## **PEP 8** Python Enhancement Proposals\n",
        "<br>\n",
        "Es una guía de estilo para facilitar la lectura del código y la consistencia entre diferentes programas. \n",
        "<br>\n",
        "No es obligatorio, pero nos da pautas de buenas prácticas para escribir código, lo que lo hará más elegante que busca serguir\n",
        "<br>\n",
        "\n",
        "**Zen de Python**\n",
        "\n",
        "<br>\n",
        "\n",
        "- Bello es mejor que feo\n",
        "- Explícito es mejor que implícito\n",
        "- Simple es mejor que complejo\n",
        "- Complejo es mejor que complicado\n",
        "- Plano es mejor que anidado\n",
        "- Legibilidad es importante\n"
      ]
    },
    {
      "cell_type": "markdown",
      "metadata": {
        "id": "fGDkGo5XfjrQ"
      },
      "source": [
        "# Import\n",
        "<br>\n",
        "Es utilizada para importar módulos, ya sea de la librería estándar de Python o de terceros.\n",
        "<br>\n",
        "\n",
        "\n",
        "```python\n",
        "import <modulo>\n",
        "```\n",
        "\n"
      ]
    },
    {
      "cell_type": "markdown",
      "metadata": {
        "id": "FPNYRnD-gSqs"
      },
      "source": [
        "Existen varias maneras de importar un módulo\n",
        "\n",
        "\n",
        "```python\n",
        "# importa el módulo math\n",
        "import math\n",
        "\n",
        "# importa el módulo llamándolo M\n",
        "import math as M \n",
        "\n",
        "# importa las funciones sin, cos y  pi de math\n",
        "from math import sin, cos, pi\n",
        "\n",
        "# importa todas las funciones de math\n",
        "from math import *\n",
        "```\n",
        "\n"
      ]
    },
    {
      "cell_type": "code",
      "metadata": {
        "id": "S0QMnj_0dMTY"
      },
      "source": [
        "import math"
      ],
      "execution_count": null,
      "outputs": []
    },
    {
      "cell_type": "code",
      "metadata": {
        "id": "MezsGmd3dMQo",
        "colab": {
          "base_uri": "https://localhost:8080/"
        },
        "outputId": "ef2d5d66-2ba5-4ad5-ca2c-459f9efa2b04"
      },
      "source": [
        "help(math)"
      ],
      "execution_count": null,
      "outputs": [
        {
          "output_type": "stream",
          "name": "stdout",
          "text": [
            "Help on built-in module math:\n",
            "\n",
            "NAME\n",
            "    math\n",
            "\n",
            "DESCRIPTION\n",
            "    This module provides access to the mathematical functions\n",
            "    defined by the C standard.\n",
            "\n",
            "FUNCTIONS\n",
            "    acos(x, /)\n",
            "        Return the arc cosine (measured in radians) of x.\n",
            "    \n",
            "    acosh(x, /)\n",
            "        Return the inverse hyperbolic cosine of x.\n",
            "    \n",
            "    asin(x, /)\n",
            "        Return the arc sine (measured in radians) of x.\n",
            "    \n",
            "    asinh(x, /)\n",
            "        Return the inverse hyperbolic sine of x.\n",
            "    \n",
            "    atan(x, /)\n",
            "        Return the arc tangent (measured in radians) of x.\n",
            "    \n",
            "    atan2(y, x, /)\n",
            "        Return the arc tangent (measured in radians) of y/x.\n",
            "        \n",
            "        Unlike atan(y/x), the signs of both x and y are considered.\n",
            "    \n",
            "    atanh(x, /)\n",
            "        Return the inverse hyperbolic tangent of x.\n",
            "    \n",
            "    ceil(x, /)\n",
            "        Return the ceiling of x as an Integral.\n",
            "        \n",
            "        This is the smallest integer >= x.\n",
            "    \n",
            "    copysign(x, y, /)\n",
            "        Return a float with the magnitude (absolute value) of x but the sign of y.\n",
            "        \n",
            "        On platforms that support signed zeros, copysign(1.0, -0.0)\n",
            "        returns -1.0.\n",
            "    \n",
            "    cos(x, /)\n",
            "        Return the cosine of x (measured in radians).\n",
            "    \n",
            "    cosh(x, /)\n",
            "        Return the hyperbolic cosine of x.\n",
            "    \n",
            "    degrees(x, /)\n",
            "        Convert angle x from radians to degrees.\n",
            "    \n",
            "    erf(x, /)\n",
            "        Error function at x.\n",
            "    \n",
            "    erfc(x, /)\n",
            "        Complementary error function at x.\n",
            "    \n",
            "    exp(x, /)\n",
            "        Return e raised to the power of x.\n",
            "    \n",
            "    expm1(x, /)\n",
            "        Return exp(x)-1.\n",
            "        \n",
            "        This function avoids the loss of precision involved in the direct evaluation of exp(x)-1 for small x.\n",
            "    \n",
            "    fabs(x, /)\n",
            "        Return the absolute value of the float x.\n",
            "    \n",
            "    factorial(x, /)\n",
            "        Find x!.\n",
            "        \n",
            "        Raise a ValueError if x is negative or non-integral.\n",
            "    \n",
            "    floor(x, /)\n",
            "        Return the floor of x as an Integral.\n",
            "        \n",
            "        This is the largest integer <= x.\n",
            "    \n",
            "    fmod(x, y, /)\n",
            "        Return fmod(x, y), according to platform C.\n",
            "        \n",
            "        x % y may differ.\n",
            "    \n",
            "    frexp(x, /)\n",
            "        Return the mantissa and exponent of x, as pair (m, e).\n",
            "        \n",
            "        m is a float and e is an int, such that x = m * 2.**e.\n",
            "        If x is 0, m and e are both 0.  Else 0.5 <= abs(m) < 1.0.\n",
            "    \n",
            "    fsum(seq, /)\n",
            "        Return an accurate floating point sum of values in the iterable seq.\n",
            "        \n",
            "        Assumes IEEE-754 floating point arithmetic.\n",
            "    \n",
            "    gamma(x, /)\n",
            "        Gamma function at x.\n",
            "    \n",
            "    gcd(x, y, /)\n",
            "        greatest common divisor of x and y\n",
            "    \n",
            "    hypot(x, y, /)\n",
            "        Return the Euclidean distance, sqrt(x*x + y*y).\n",
            "    \n",
            "    isclose(a, b, *, rel_tol=1e-09, abs_tol=0.0)\n",
            "        Determine whether two floating point numbers are close in value.\n",
            "        \n",
            "          rel_tol\n",
            "            maximum difference for being considered \"close\", relative to the\n",
            "            magnitude of the input values\n",
            "          abs_tol\n",
            "            maximum difference for being considered \"close\", regardless of the\n",
            "            magnitude of the input values\n",
            "        \n",
            "        Return True if a is close in value to b, and False otherwise.\n",
            "        \n",
            "        For the values to be considered close, the difference between them\n",
            "        must be smaller than at least one of the tolerances.\n",
            "        \n",
            "        -inf, inf and NaN behave similarly to the IEEE 754 Standard.  That\n",
            "        is, NaN is not close to anything, even itself.  inf and -inf are\n",
            "        only close to themselves.\n",
            "    \n",
            "    isfinite(x, /)\n",
            "        Return True if x is neither an infinity nor a NaN, and False otherwise.\n",
            "    \n",
            "    isinf(x, /)\n",
            "        Return True if x is a positive or negative infinity, and False otherwise.\n",
            "    \n",
            "    isnan(x, /)\n",
            "        Return True if x is a NaN (not a number), and False otherwise.\n",
            "    \n",
            "    ldexp(x, i, /)\n",
            "        Return x * (2**i).\n",
            "        \n",
            "        This is essentially the inverse of frexp().\n",
            "    \n",
            "    lgamma(x, /)\n",
            "        Natural logarithm of absolute value of Gamma function at x.\n",
            "    \n",
            "    log(...)\n",
            "        log(x, [base=math.e])\n",
            "        Return the logarithm of x to the given base.\n",
            "        \n",
            "        If the base not specified, returns the natural logarithm (base e) of x.\n",
            "    \n",
            "    log10(x, /)\n",
            "        Return the base 10 logarithm of x.\n",
            "    \n",
            "    log1p(x, /)\n",
            "        Return the natural logarithm of 1+x (base e).\n",
            "        \n",
            "        The result is computed in a way which is accurate for x near zero.\n",
            "    \n",
            "    log2(x, /)\n",
            "        Return the base 2 logarithm of x.\n",
            "    \n",
            "    modf(x, /)\n",
            "        Return the fractional and integer parts of x.\n",
            "        \n",
            "        Both results carry the sign of x and are floats.\n",
            "    \n",
            "    pow(x, y, /)\n",
            "        Return x**y (x to the power of y).\n",
            "    \n",
            "    radians(x, /)\n",
            "        Convert angle x from degrees to radians.\n",
            "    \n",
            "    remainder(x, y, /)\n",
            "        Difference between x and the closest integer multiple of y.\n",
            "        \n",
            "        Return x - n*y where n*y is the closest integer multiple of y.\n",
            "        In the case where x is exactly halfway between two multiples of\n",
            "        y, the nearest even value of n is used. The result is always exact.\n",
            "    \n",
            "    sin(x, /)\n",
            "        Return the sine of x (measured in radians).\n",
            "    \n",
            "    sinh(x, /)\n",
            "        Return the hyperbolic sine of x.\n",
            "    \n",
            "    sqrt(x, /)\n",
            "        Return the square root of x.\n",
            "    \n",
            "    tan(x, /)\n",
            "        Return the tangent of x (measured in radians).\n",
            "    \n",
            "    tanh(x, /)\n",
            "        Return the hyperbolic tangent of x.\n",
            "    \n",
            "    trunc(x, /)\n",
            "        Truncates the Real x to the nearest Integral toward 0.\n",
            "        \n",
            "        Uses the __trunc__ magic method.\n",
            "\n",
            "DATA\n",
            "    e = 2.718281828459045\n",
            "    inf = inf\n",
            "    nan = nan\n",
            "    pi = 3.141592653589793\n",
            "    tau = 6.283185307179586\n",
            "\n",
            "FILE\n",
            "    (built-in)\n",
            "\n",
            "\n"
          ]
        }
      ]
    },
    {
      "cell_type": "code",
      "source": [
        "import math"
      ],
      "metadata": {
        "id": "DGh51I-73foX"
      },
      "execution_count": null,
      "outputs": []
    },
    {
      "cell_type": "code",
      "source": [
        "# numpy tiene isnan\n",
        "# pyspark tiene isnan\n",
        "\n",
        "math.isnan(math.nan)"
      ],
      "metadata": {
        "id": "zMvTXMtx4d2v",
        "colab": {
          "base_uri": "https://localhost:8080/"
        },
        "outputId": "6416b141-9618-4e4e-cbe0-eea4c8e26c54"
      },
      "execution_count": null,
      "outputs": [
        {
          "output_type": "execute_result",
          "data": {
            "text/plain": [
              "True"
            ]
          },
          "metadata": {},
          "execution_count": 12
        }
      ]
    },
    {
      "cell_type": "code",
      "source": [
        "from math import *"
      ],
      "metadata": {
        "id": "pSDWJ32I4Tsl"
      },
      "execution_count": null,
      "outputs": []
    },
    {
      "cell_type": "code",
      "source": [
        "isnan(nan)"
      ],
      "metadata": {
        "colab": {
          "base_uri": "https://localhost:8080/"
        },
        "id": "1Ltud-Mm4Y3Y",
        "outputId": "4fa02ff6-22ca-4e79-80fd-68d362f99bd1"
      },
      "execution_count": null,
      "outputs": [
        {
          "output_type": "execute_result",
          "data": {
            "text/plain": [
              "True"
            ]
          },
          "metadata": {},
          "execution_count": 14
        }
      ]
    },
    {
      "cell_type": "code",
      "metadata": {
        "id": "xC2JDmWnumFe"
      },
      "source": [
        "import math as M"
      ],
      "execution_count": null,
      "outputs": []
    },
    {
      "cell_type": "code",
      "metadata": {
        "id": "8pVrcn-9upgI",
        "colab": {
          "base_uri": "https://localhost:8080/"
        },
        "outputId": "5c0dd92f-bcc3-4cb1-ac26-be63da5c207d"
      },
      "source": [
        "M.pi"
      ],
      "execution_count": null,
      "outputs": [
        {
          "output_type": "execute_result",
          "data": {
            "text/plain": [
              "3.141592653589793"
            ]
          },
          "metadata": {},
          "execution_count": 16
        }
      ]
    },
    {
      "cell_type": "code",
      "source": [
        "3.141592653589793"
      ],
      "metadata": {
        "id": "ViRXpBXV6SCZ"
      },
      "execution_count": null,
      "outputs": []
    },
    {
      "cell_type": "code",
      "source": [
        "20.01"
      ],
      "metadata": {
        "id": "gsg_ga086h4a"
      },
      "execution_count": null,
      "outputs": []
    },
    {
      "cell_type": "code",
      "source": [
        "DOLAR_2020 = 20.01"
      ],
      "metadata": {
        "id": "A2NZhEny6hxg"
      },
      "execution_count": null,
      "outputs": []
    },
    {
      "cell_type": "code",
      "source": [
        "DOLAR_2020"
      ],
      "metadata": {
        "id": "IoCJq4SB6qRu"
      },
      "execution_count": null,
      "outputs": []
    },
    {
      "cell_type": "code",
      "metadata": {
        "id": "SjQUKQM5ut_G"
      },
      "source": [
        "from math import sin, cos, pi"
      ],
      "execution_count": null,
      "outputs": []
    },
    {
      "cell_type": "code",
      "metadata": {
        "id": "oyj-axKNu0y3",
        "colab": {
          "base_uri": "https://localhost:8080/"
        },
        "outputId": "cc350128-4a56-4aa9-c23d-b671036ce771"
      },
      "source": [
        "sin # math.sin o M.sin"
      ],
      "execution_count": null,
      "outputs": [
        {
          "output_type": "execute_result",
          "data": {
            "text/plain": [
              "<function math.sin>"
            ]
          },
          "metadata": {},
          "execution_count": 36
        }
      ]
    },
    {
      "cell_type": "code",
      "metadata": {
        "id": "0m7OzXo4u2Xq",
        "colab": {
          "base_uri": "https://localhost:8080/"
        },
        "outputId": "6c2f5d14-c1c6-4db5-eb22-110222b5d862"
      },
      "source": [
        "pi"
      ],
      "execution_count": null,
      "outputs": [
        {
          "output_type": "execute_result",
          "data": {
            "text/plain": [
              "3.141592653589793"
            ]
          },
          "metadata": {},
          "execution_count": 37
        }
      ]
    },
    {
      "cell_type": "code",
      "source": [
        "from math import sin "
      ],
      "metadata": {
        "id": "Mulo4FyQ7H4V"
      },
      "execution_count": null,
      "outputs": []
    },
    {
      "cell_type": "code",
      "source": [
        "help(sin)"
      ],
      "metadata": {
        "colab": {
          "base_uri": "https://localhost:8080/"
        },
        "id": "t6HwLd0C7Kan",
        "outputId": "9d1a2e91-1b00-4862-9408-1d06ca563e00"
      },
      "execution_count": null,
      "outputs": [
        {
          "output_type": "stream",
          "name": "stdout",
          "text": [
            "Help on built-in function sin in module math:\n",
            "\n",
            "sin(x, /)\n",
            "    Return the sine of x (measured in radians).\n",
            "\n"
          ]
        }
      ]
    },
    {
      "cell_type": "code",
      "metadata": {
        "id": "LC0a1r5-vcBy"
      },
      "source": [
        "from math import sin as funcion_seno"
      ],
      "execution_count": null,
      "outputs": []
    },
    {
      "cell_type": "code",
      "source": [
        "help(funcion_seno)"
      ],
      "metadata": {
        "colab": {
          "base_uri": "https://localhost:8080/"
        },
        "id": "ZO4izgRu7GU4",
        "outputId": "c7bd46a4-d382-4eb6-939c-14e3e1a5ae0a"
      },
      "execution_count": null,
      "outputs": [
        {
          "output_type": "stream",
          "name": "stdout",
          "text": [
            "Help on built-in function sin in module math:\n",
            "\n",
            "sin(x, /)\n",
            "    Return the sine of x (measured in radians).\n",
            "\n"
          ]
        }
      ]
    },
    {
      "cell_type": "code",
      "metadata": {
        "id": "vkv5y894vfpO"
      },
      "source": [
        "print(funcion_seno)"
      ],
      "execution_count": null,
      "outputs": []
    },
    {
      "cell_type": "markdown",
      "metadata": {
        "id": "eBJqdLmmvyi5"
      },
      "source": [
        "## Importando librerías personalizadas\n",
        "<br>\n",
        "Si nosotros queremos importar nuestra librería personalizada, tenemos que realizar los siguientes pasos:\n",
        "<br>"
      ]
    },
    {
      "cell_type": "code",
      "metadata": {
        "id": "lms-eBOwwJXI",
        "colab": {
          "base_uri": "https://localhost:8080/"
        },
        "outputId": "ad17c626-be31-4891-9d56-a0ff756b3020"
      },
      "source": [
        "# Conectar nuestro drive a este archivo de colab\n",
        "from google.colab import drive\n",
        "drive.mount('/content/gdrive')"
      ],
      "execution_count": null,
      "outputs": [
        {
          "output_type": "stream",
          "name": "stdout",
          "text": [
            "Mounted at /content/gdrive\n"
          ]
        }
      ]
    },
    {
      "cell_type": "code",
      "metadata": {
        "id": "hp4AgK3n9fsk"
      },
      "source": [
        "# Leyendo una tabla\n",
        "import pandas as pd\n",
        "df = pd.read_csv(r\"/content/gdrive/MyDrive/Colab Notebooks/Python Basics/frutas_temporada.csv\",\n",
        "                 encoding='latin1')"
      ],
      "execution_count": null,
      "outputs": []
    },
    {
      "cell_type": "code",
      "metadata": {
        "id": "biv_2GPd-LgV",
        "colab": {
          "base_uri": "https://localhost:8080/",
          "height": 175
        },
        "outputId": "998460b0-6636-4907-cc47-1a56affea051"
      },
      "source": [
        "df"
      ],
      "execution_count": null,
      "outputs": [
        {
          "output_type": "execute_result",
          "data": {
            "text/plain": [
              "     Fruta       Nombre científico Temporada\n",
              "0    Fresa                Fragaria     Enero\n",
              "1  Guayaba         Psidium guajava   Febrero\n",
              "2    Mamey         Pouteria sapota     Marzo\n",
              "3  Naranja  Citrus X sinensi Abril       NaN"
            ],
            "text/html": [
              "\n",
              "  <div id=\"df-94f58b68-8760-4c95-88a0-74efdce1df5f\">\n",
              "    <div class=\"colab-df-container\">\n",
              "      <div>\n",
              "<style scoped>\n",
              "    .dataframe tbody tr th:only-of-type {\n",
              "        vertical-align: middle;\n",
              "    }\n",
              "\n",
              "    .dataframe tbody tr th {\n",
              "        vertical-align: top;\n",
              "    }\n",
              "\n",
              "    .dataframe thead th {\n",
              "        text-align: right;\n",
              "    }\n",
              "</style>\n",
              "<table border=\"1\" class=\"dataframe\">\n",
              "  <thead>\n",
              "    <tr style=\"text-align: right;\">\n",
              "      <th></th>\n",
              "      <th>Fruta</th>\n",
              "      <th>Nombre científico</th>\n",
              "      <th>Temporada</th>\n",
              "    </tr>\n",
              "  </thead>\n",
              "  <tbody>\n",
              "    <tr>\n",
              "      <th>0</th>\n",
              "      <td>Fresa</td>\n",
              "      <td>Fragaria</td>\n",
              "      <td>Enero</td>\n",
              "    </tr>\n",
              "    <tr>\n",
              "      <th>1</th>\n",
              "      <td>Guayaba</td>\n",
              "      <td>Psidium guajava</td>\n",
              "      <td>Febrero</td>\n",
              "    </tr>\n",
              "    <tr>\n",
              "      <th>2</th>\n",
              "      <td>Mamey</td>\n",
              "      <td>Pouteria sapota</td>\n",
              "      <td>Marzo</td>\n",
              "    </tr>\n",
              "    <tr>\n",
              "      <th>3</th>\n",
              "      <td>Naranja</td>\n",
              "      <td>Citrus X sinensi Abril</td>\n",
              "      <td>NaN</td>\n",
              "    </tr>\n",
              "  </tbody>\n",
              "</table>\n",
              "</div>\n",
              "      <button class=\"colab-df-convert\" onclick=\"convertToInteractive('df-94f58b68-8760-4c95-88a0-74efdce1df5f')\"\n",
              "              title=\"Convert this dataframe to an interactive table.\"\n",
              "              style=\"display:none;\">\n",
              "        \n",
              "  <svg xmlns=\"http://www.w3.org/2000/svg\" height=\"24px\"viewBox=\"0 0 24 24\"\n",
              "       width=\"24px\">\n",
              "    <path d=\"M0 0h24v24H0V0z\" fill=\"none\"/>\n",
              "    <path d=\"M18.56 5.44l.94 2.06.94-2.06 2.06-.94-2.06-.94-.94-2.06-.94 2.06-2.06.94zm-11 1L8.5 8.5l.94-2.06 2.06-.94-2.06-.94L8.5 2.5l-.94 2.06-2.06.94zm10 10l.94 2.06.94-2.06 2.06-.94-2.06-.94-.94-2.06-.94 2.06-2.06.94z\"/><path d=\"M17.41 7.96l-1.37-1.37c-.4-.4-.92-.59-1.43-.59-.52 0-1.04.2-1.43.59L10.3 9.45l-7.72 7.72c-.78.78-.78 2.05 0 2.83L4 21.41c.39.39.9.59 1.41.59.51 0 1.02-.2 1.41-.59l7.78-7.78 2.81-2.81c.8-.78.8-2.07 0-2.86zM5.41 20L4 18.59l7.72-7.72 1.47 1.35L5.41 20z\"/>\n",
              "  </svg>\n",
              "      </button>\n",
              "      \n",
              "  <style>\n",
              "    .colab-df-container {\n",
              "      display:flex;\n",
              "      flex-wrap:wrap;\n",
              "      gap: 12px;\n",
              "    }\n",
              "\n",
              "    .colab-df-convert {\n",
              "      background-color: #E8F0FE;\n",
              "      border: none;\n",
              "      border-radius: 50%;\n",
              "      cursor: pointer;\n",
              "      display: none;\n",
              "      fill: #1967D2;\n",
              "      height: 32px;\n",
              "      padding: 0 0 0 0;\n",
              "      width: 32px;\n",
              "    }\n",
              "\n",
              "    .colab-df-convert:hover {\n",
              "      background-color: #E2EBFA;\n",
              "      box-shadow: 0px 1px 2px rgba(60, 64, 67, 0.3), 0px 1px 3px 1px rgba(60, 64, 67, 0.15);\n",
              "      fill: #174EA6;\n",
              "    }\n",
              "\n",
              "    [theme=dark] .colab-df-convert {\n",
              "      background-color: #3B4455;\n",
              "      fill: #D2E3FC;\n",
              "    }\n",
              "\n",
              "    [theme=dark] .colab-df-convert:hover {\n",
              "      background-color: #434B5C;\n",
              "      box-shadow: 0px 1px 3px 1px rgba(0, 0, 0, 0.15);\n",
              "      filter: drop-shadow(0px 1px 2px rgba(0, 0, 0, 0.3));\n",
              "      fill: #FFFFFF;\n",
              "    }\n",
              "  </style>\n",
              "\n",
              "      <script>\n",
              "        const buttonEl =\n",
              "          document.querySelector('#df-94f58b68-8760-4c95-88a0-74efdce1df5f button.colab-df-convert');\n",
              "        buttonEl.style.display =\n",
              "          google.colab.kernel.accessAllowed ? 'block' : 'none';\n",
              "\n",
              "        async function convertToInteractive(key) {\n",
              "          const element = document.querySelector('#df-94f58b68-8760-4c95-88a0-74efdce1df5f');\n",
              "          const dataTable =\n",
              "            await google.colab.kernel.invokeFunction('convertToInteractive',\n",
              "                                                     [key], {});\n",
              "          if (!dataTable) return;\n",
              "\n",
              "          const docLinkHtml = 'Like what you see? Visit the ' +\n",
              "            '<a target=\"_blank\" href=https://colab.research.google.com/notebooks/data_table.ipynb>data table notebook</a>'\n",
              "            + ' to learn more about interactive tables.';\n",
              "          element.innerHTML = '';\n",
              "          dataTable['output_type'] = 'display_data';\n",
              "          await google.colab.output.renderOutput(dataTable, element);\n",
              "          const docLink = document.createElement('div');\n",
              "          docLink.innerHTML = docLinkHtml;\n",
              "          element.appendChild(docLink);\n",
              "        }\n",
              "      </script>\n",
              "    </div>\n",
              "  </div>\n",
              "  "
            ]
          },
          "metadata": {},
          "execution_count": 3
        }
      ]
    },
    {
      "cell_type": "markdown",
      "metadata": {
        "id": "boRs_G0cR_8T"
      },
      "source": [
        "Nota:\n",
        "Usamos el signo de exclamación `!` para ejecutar un comando sobre la línea de comandos del sistema (consola de Linux) y no usando Python."
      ]
    },
    {
      "cell_type": "code",
      "metadata": {
        "id": "DCRVLDvNRRzK",
        "colab": {
          "base_uri": "https://localhost:8080/"
        },
        "outputId": "0a6bac5b-0e33-40da-85b0-5966a38db1f9"
      },
      "source": [
        "!echo \"Imprimiendo desde el shell\" # echo is como la función print en Python"
      ],
      "execution_count": null,
      "outputs": [
        {
          "output_type": "stream",
          "name": "stdout",
          "text": [
            "Imprimiendo desde el shell\n"
          ]
        }
      ]
    },
    {
      "cell_type": "code",
      "metadata": {
        "id": "VF-prC9MHVwv",
        "colab": {
          "base_uri": "https://localhost:8080/"
        },
        "outputId": "da17a2e4-f072-446e-f116-c783deccac66"
      },
      "source": [
        "!python mi_primer_modulo.py"
      ],
      "execution_count": null,
      "outputs": [
        {
          "output_type": "stream",
          "name": "stdout",
          "text": [
            "python3: can't open file 'mi_primer_modulo.py': [Errno 2] No such file or directory\n"
          ]
        }
      ]
    },
    {
      "cell_type": "code",
      "metadata": {
        "id": "yykQECIISk2L",
        "colab": {
          "base_uri": "https://localhost:8080/"
        },
        "outputId": "9b1f0857-d718-43b0-b168-1e0ff811e0a2"
      },
      "source": [
        "# El comando ls nos permite ver los archivos y directorios\n",
        "# que tenemos dentro del directorio en el que estamos.\n",
        "!ls "
      ],
      "execution_count": null,
      "outputs": [
        {
          "output_type": "stream",
          "text": [
            "gdrive\tsample_data\n"
          ],
          "name": "stdout"
        }
      ]
    },
    {
      "cell_type": "code",
      "metadata": {
        "id": "JNh005oSwTQi",
        "colab": {
          "base_uri": "https://localhost:8080/"
        },
        "outputId": "4cd9f593-86e4-44f9-f708-faf35b69642d"
      },
      "source": [
        "# /content/gdrive/MyDrive/Colab Notebooks/Python Basics/mi_primer_modulo.py\n",
        "!python /content/gdrive/MyDrive/Colab\\ Notebooks/Diplomado-DS/mi_primer_modulo.py"
      ],
      "execution_count": null,
      "outputs": [
        {
          "output_type": "stream",
          "name": "stdout",
          "text": [
            "Suma de dos números\n",
            "Ingresa el primer número: 1\n",
            "Ingresa el segundo número: 2\n",
            "La suma de el número 1 + 2 = 3\n",
            "Cálculo finalizado\n"
          ]
        }
      ]
    },
    {
      "cell_type": "code",
      "metadata": {
        "id": "r2uW8bOT3tVI"
      },
      "source": [
        "# cp sirve para copiar archivos y directorios\n",
        "!cp /content/gdrive/MyDrive/Colab\\ Notebooks/Python\\ Basics/mi_primer_modulo.py ."
      ],
      "execution_count": null,
      "outputs": []
    },
    {
      "cell_type": "code",
      "metadata": {
        "id": "HvR_BhuN5cjd",
        "colab": {
          "base_uri": "https://localhost:8080/"
        },
        "outputId": "fe0ec54e-0f71-4bfa-cd1f-0040ebc597fa"
      },
      "source": [
        "!python mi_primer_modulo.py"
      ],
      "execution_count": null,
      "outputs": [
        {
          "output_type": "stream",
          "text": [
            "Suma de dos números\n",
            "Ingresa el primer número: 23\n",
            "Ingresa el segundo número: 34\n",
            "La suma de el número 23 + 34 = 57\n",
            "Cálculo finalizado\n"
          ],
          "name": "stdout"
        }
      ]
    },
    {
      "cell_type": "code",
      "metadata": {
        "id": "_ZaF0SIhywD7"
      },
      "source": [
        "import mi_primer_modulo as pm"
      ],
      "execution_count": null,
      "outputs": []
    },
    {
      "cell_type": "code",
      "metadata": {
        "id": "wz48USyG8rgA",
        "colab": {
          "base_uri": "https://localhost:8080/",
          "height": 35
        },
        "outputId": "b9e56cfc-83a5-4cbe-a3a5-4cda21a9d005"
      },
      "source": [
        "pm.__name__"
      ],
      "execution_count": null,
      "outputs": [
        {
          "output_type": "execute_result",
          "data": {
            "application/vnd.google.colaboratory.intrinsic+json": {
              "type": "string"
            },
            "text/plain": [
              "'mi_primer_modulo'"
            ]
          },
          "metadata": {
            "tags": []
          },
          "execution_count": 11
        }
      ]
    },
    {
      "cell_type": "code",
      "metadata": {
        "id": "DULNpYEKy9qY",
        "colab": {
          "base_uri": "https://localhost:8080/"
        },
        "outputId": "33edb7a2-366d-4659-a08b-0d62091b0e36"
      },
      "source": [
        "help(pm)"
      ],
      "execution_count": null,
      "outputs": [
        {
          "output_type": "stream",
          "text": [
            "Help on module mi_primer_modulo:\n",
            "\n",
            "NAME\n",
            "    mi_primer_modulo - Programa con funciones básicas aritméticas\n",
            "\n",
            "FUNCTIONS\n",
            "    resta_dos_numeros(x, y)\n",
            "        Calcula la resta de dos números\n",
            "    \n",
            "    suma_dos_numeros(x, y)\n",
            "        Calcula la suma de dos números\n",
            "\n",
            "DATA\n",
            "    VALOR_PI = 3.1415927\n",
            "    __status__ = 'Development'\n",
            "\n",
            "VERSION\n",
            "    1.0\n",
            "\n",
            "AUTHOR\n",
            "    Cuauhtémoc\n",
            "\n",
            "FILE\n",
            "    /content/mi_primer_modulo.py\n",
            "\n",
            "\n"
          ],
          "name": "stdout"
        }
      ]
    },
    {
      "cell_type": "code",
      "metadata": {
        "id": "AsJ_hN7uzclx",
        "colab": {
          "base_uri": "https://localhost:8080/"
        },
        "outputId": "e68ca83b-2774-48c9-cb4f-cc4130d3e8e2"
      },
      "source": [
        "help(pm.resta_dos_numeros)"
      ],
      "execution_count": null,
      "outputs": [
        {
          "output_type": "stream",
          "text": [
            "Help on function resta_dos_numeros in module mi_primer_modulo:\n",
            "\n",
            "resta_dos_numeros(x, y)\n",
            "    Calcula la resta de dos números\n",
            "\n"
          ],
          "name": "stdout"
        }
      ]
    },
    {
      "cell_type": "code",
      "metadata": {
        "id": "JI69xTxwy_qm",
        "colab": {
          "base_uri": "https://localhost:8080/",
          "height": 35
        },
        "outputId": "ba2ae2fa-e030-429c-d4cd-e2ab58047976"
      },
      "source": [
        "pm.__version__"
      ],
      "execution_count": null,
      "outputs": [
        {
          "output_type": "execute_result",
          "data": {
            "application/vnd.google.colaboratory.intrinsic+json": {
              "type": "string"
            },
            "text/plain": [
              "'1.3'"
            ]
          },
          "metadata": {
            "tags": []
          },
          "execution_count": 20
        }
      ]
    },
    {
      "cell_type": "code",
      "metadata": {
        "id": "uwRSvA4qzI3x"
      },
      "source": [
        "import importlib"
      ],
      "execution_count": null,
      "outputs": []
    },
    {
      "cell_type": "code",
      "metadata": {
        "id": "Ab39bqedzRMA",
        "colab": {
          "base_uri": "https://localhost:8080/"
        },
        "outputId": "9e080074-f8c2-4dc1-95b2-357accc795e9"
      },
      "source": [
        "importlib.reload(pm)"
      ],
      "execution_count": null,
      "outputs": [
        {
          "output_type": "execute_result",
          "data": {
            "text/plain": [
              "<module 'mi_primer_modulo' from '/content/mi_primer_modulo.py'>"
            ]
          },
          "metadata": {
            "tags": []
          },
          "execution_count": 19
        }
      ]
    },
    {
      "cell_type": "code",
      "metadata": {
        "id": "a0sN-AmQ6SQY",
        "collapsed": true,
        "colab": {
          "base_uri": "https://localhost:8080/"
        },
        "outputId": "0a30f065-591f-443b-f245-d3c360504482"
      },
      "source": [
        "pm.resta_dos_numeros(5,2)"
      ],
      "execution_count": null,
      "outputs": [
        {
          "output_type": "execute_result",
          "data": {
            "text/plain": [
              "3"
            ]
          },
          "metadata": {
            "tags": []
          },
          "execution_count": 21
        }
      ]
    },
    {
      "cell_type": "markdown",
      "metadata": {
        "id": "EaPanxiRbma5"
      },
      "source": [
        "# Fuentes <br>\n",
        "https://entrenamiento-python-basico.readthedocs.io/es/latest/leccion8/modulos.html#:~:text=Un%20m%C3%B3dulo%20es%20un%20objeto,tambi%C3%A9n%20puede%20incluir%20c%C3%B3digo%20ejecutable.\n"
      ]
    }
  ]
}
