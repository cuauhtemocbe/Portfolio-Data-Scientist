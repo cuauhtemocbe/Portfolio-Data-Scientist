{
  "nbformat": 4,
  "nbformat_minor": 0,
  "metadata": {
    "colab": {
      "provenance": [],
      "authorship_tag": "ABX9TyMbXUGUjuQujHh9OjlqQcZO",
      "include_colab_link": true
    },
    "kernelspec": {
      "name": "python3",
      "display_name": "Python 3"
    },
    "language_info": {
      "name": "python"
    }
  },
  "cells": [
    {
      "cell_type": "markdown",
      "metadata": {
        "id": "view-in-github",
        "colab_type": "text"
      },
      "source": [
        "<a href=\"https://colab.research.google.com/github/cuauhtemocbe/Python-Basics/blob/main/9.%20Tipos%20de%20datos%20avanzados.ipynb\" target=\"_parent\"><img src=\"https://colab.research.google.com/assets/colab-badge.svg\" alt=\"Open In Colab\"/></a>"
      ]
    },
    {
      "cell_type": "markdown",
      "source": [
        "## Diccionarios\n",
        "Son un tipo de dato para almacenar información mediante una llave ('key') y un valor ('value').\n",
        "\n",
        "Podrías pensarlo como un diccionario etimológico\n",
        "\n",
        "conocimiento = Noción, saber o noticia elemental de algo\n",
        "\n",
        "bicicleta = Vehículo de dos ruedas de igual ...\n",
        "\n",
        "string = son cadenas de caracteres\n",
        "\n",
        "```\n",
        "dicc = {\n",
        "  'conocimiento': 'Noción, saber o noticia elemental de algo',\n",
        "  'bicicleta': 'Vehículo de dos ruedas de igual',\n",
        "  'string': 'son cadenas de caracteres'\n",
        "}\n",
        "```\n",
        "\n",
        "Para crear un diccionario se utilizan las llave {}.\n",
        "\n",
        "\n"
      ],
      "metadata": {
        "id": "B_sGZvtmfXyl"
      }
    },
    {
      "cell_type": "code",
      "execution_count": null,
      "metadata": {
        "id": "eVVj7aTcdymC"
      },
      "outputs": [],
      "source": [
        "dicc = {}\n",
        "type(dicc)"
      ]
    },
    {
      "cell_type": "code",
      "source": [
        "dicc = {\n",
        "  'conocimiento': 'Noción, saber o noticia elemental de algo',\n",
        "  'bicicleta': 'Vehículo de dos ruedas de igual',\n",
        "  'string': 'son cadenas de caracteres'\n",
        "}"
      ],
      "metadata": {
        "id": "I_P8myDUk-G0"
      },
      "execution_count": null,
      "outputs": []
    },
    {
      "cell_type": "markdown",
      "source": [
        "¿Recuerdas que en las listas se acceden a los valores a través de índices?"
      ],
      "metadata": {
        "id": "oDNMBR8plBbP"
      }
    },
    {
      "cell_type": "code",
      "source": [
        "dicc[0]"
      ],
      "metadata": {
        "id": "_Ooxa_Mok_x_"
      },
      "execution_count": null,
      "outputs": []
    },
    {
      "cell_type": "markdown",
      "source": [
        "En el caso de los diccionarios si no utilizas la 'llave' correcta, obtendras el error `KeyError`"
      ],
      "metadata": {
        "id": "q_MPtvDZlNCp"
      }
    },
    {
      "cell_type": "code",
      "source": [
        "dicc['string']"
      ],
      "metadata": {
        "id": "8MgQf0A3lGSK"
      },
      "execution_count": null,
      "outputs": []
    },
    {
      "cell_type": "markdown",
      "source": [
        "Al igual que las listas, también podemos iterar sobre: llaves, valores o items (llaves-valores)"
      ],
      "metadata": {
        "id": "vmGVfX6GlWEA"
      }
    },
    {
      "cell_type": "code",
      "source": [
        "# Iterando sobre las llaves\n",
        "for key in dicc.keys():\n",
        "  print(key)"
      ],
      "metadata": {
        "id": "Vae5nxsllc5u"
      },
      "execution_count": null,
      "outputs": []
    },
    {
      "cell_type": "code",
      "source": [
        "dicc.keys()"
      ],
      "metadata": {
        "id": "PR4laBGjlf-C"
      },
      "execution_count": null,
      "outputs": []
    },
    {
      "cell_type": "code",
      "source": [
        "# Iterando sobre los valores\n",
        "for value in dicc.values():\n",
        "  print(value)"
      ],
      "metadata": {
        "id": "rcEMuxuXlhWq"
      },
      "execution_count": null,
      "outputs": []
    },
    {
      "cell_type": "code",
      "source": [
        "# Iterando sobre los items\n",
        "for key, value in dicc.items():\n",
        "  print(f'La definición de {key} es: {value}')"
      ],
      "metadata": {
        "id": "gDCchQpVlk7i"
      },
      "execution_count": null,
      "outputs": []
    },
    {
      "cell_type": "code",
      "source": [
        "for key in dicc.keys():\n",
        "  print(f'La definición de {key} es: {dicc[key]}')"
      ],
      "metadata": {
        "id": "TF9Y62LVl786"
      },
      "execution_count": null,
      "outputs": []
    },
    {
      "cell_type": "markdown",
      "source": [
        "## NumPy\n",
        "\n",
        "La librería de NumPy es una librería muy popular para trabajar con arrays.\n",
        "\n",
        "Tiene funcionalidades para trabajar con algebra lineal, transformadas de fourier y matrices. \n",
        "\n",
        "Es más rápido los arrays de NumPy que las listas de Python."
      ],
      "metadata": {
        "id": "gDEXzoXNffOi"
      }
    },
    {
      "cell_type": "code",
      "source": [
        "import numpy as np"
      ],
      "metadata": {
        "id": "i7odk6S1fezd"
      },
      "execution_count": null,
      "outputs": []
    },
    {
      "cell_type": "code",
      "source": [
        "lista_numeros = [1, 2, 3, 4, 5, 6]\n",
        "type(lista_numeros)"
      ],
      "metadata": {
        "id": "m4dqZ6fof8Gw"
      },
      "execution_count": null,
      "outputs": []
    },
    {
      "cell_type": "code",
      "source": [
        "arr = np.array(lista_numeros)\n",
        "type(arr)"
      ],
      "metadata": {
        "id": "s678fcL3gBY3"
      },
      "execution_count": null,
      "outputs": []
    },
    {
      "cell_type": "code",
      "source": [
        "print(lista_numeros)"
      ],
      "metadata": {
        "id": "NEV8McSCgLDq"
      },
      "execution_count": null,
      "outputs": []
    },
    {
      "cell_type": "code",
      "source": [
        "print(arr)"
      ],
      "metadata": {
        "id": "mUnsqPNPgFGZ"
      },
      "execution_count": null,
      "outputs": []
    },
    {
      "cell_type": "markdown",
      "source": [
        "Arreglo 2-D"
      ],
      "metadata": {
        "id": "6HPDZM_AgTQh"
      }
    },
    {
      "cell_type": "code",
      "source": [
        "arr = np.array([[1, 2, 3], [4, 5, 6]])\n",
        "\n",
        "print(arr)"
      ],
      "metadata": {
        "id": "c8gZit9PgHpG"
      },
      "execution_count": null,
      "outputs": []
    },
    {
      "cell_type": "code",
      "source": [
        "arr.ndim"
      ],
      "metadata": {
        "id": "sW9_-qGngZf8"
      },
      "execution_count": null,
      "outputs": []
    },
    {
      "cell_type": "code",
      "source": [
        "arr[0]"
      ],
      "metadata": {
        "id": "YkIqWsTfgkY1"
      },
      "execution_count": null,
      "outputs": []
    },
    {
      "cell_type": "markdown",
      "source": [
        "# PIL y Numpy\n",
        "\n",
        "La librería PIL es una librería muy popular para el manejo de imagenes"
      ],
      "metadata": {
        "id": "SlaHBZOdhpuu"
      }
    },
    {
      "cell_type": "code",
      "source": [
        "from PIL import Image\n",
        "image = Image.open('/content/back_to_the_past.jpeg')"
      ],
      "metadata": {
        "id": "5jc5yMcMglxg"
      },
      "execution_count": null,
      "outputs": []
    },
    {
      "cell_type": "code",
      "source": [
        "print(image.format)"
      ],
      "metadata": {
        "id": "Funbttk8h0pZ"
      },
      "execution_count": null,
      "outputs": []
    },
    {
      "cell_type": "code",
      "source": [
        "print(image.size)"
      ],
      "metadata": {
        "id": "noXpB1M_h169"
      },
      "execution_count": null,
      "outputs": []
    },
    {
      "cell_type": "code",
      "source": [
        "display(image)"
      ],
      "metadata": {
        "id": "v8Ur4l8Gh7im"
      },
      "execution_count": null,
      "outputs": []
    },
    {
      "cell_type": "code",
      "source": [
        "img_array = np.asarray(image)\n",
        " \n",
        "print(type(img_array))"
      ],
      "metadata": {
        "id": "BHNo4tP8h4QE"
      },
      "execution_count": null,
      "outputs": []
    },
    {
      "cell_type": "code",
      "source": [
        "img_array"
      ],
      "metadata": {
        "id": "AtLddbNdiKRd"
      },
      "execution_count": null,
      "outputs": []
    },
    {
      "cell_type": "code",
      "source": [
        "img_gray = image.convert('L')\n",
        "display(img_gray)"
      ],
      "metadata": {
        "id": "zsXB1CHGiNny"
      },
      "execution_count": null,
      "outputs": []
    },
    {
      "cell_type": "code",
      "source": [
        "import pandas as pd\n",
        "\n",
        "link = \"https://en.wikipedia.org/wiki/2018_in_film\"\n",
        "\n",
        "tables = pd.read_html(link,header=0)[5]\n",
        "\n",
        "tables"
      ],
      "metadata": {
        "id": "qv24OFruilVO"
      },
      "execution_count": null,
      "outputs": []
    },
    {
      "cell_type": "code",
      "source": [
        "!pip install google-play-scraper"
      ],
      "metadata": {
        "id": "GrvL6HgbiuJi"
      },
      "execution_count": null,
      "outputs": []
    },
    {
      "cell_type": "markdown",
      "source": [
        "# Turtle"
      ],
      "metadata": {
        "id": "Nv6MA3ltjb0J"
      }
    },
    {
      "cell_type": "code",
      "source": [
        "from ColabTurtle.Turtle import *"
      ],
      "metadata": {
        "id": "ZBa0CyjDjhED"
      },
      "execution_count": null,
      "outputs": []
    },
    {
      "cell_type": "code",
      "source": [
        "!pip3 install ColabTurtle"
      ],
      "metadata": {
        "id": "qiKy92_Rjf50"
      },
      "execution_count": null,
      "outputs": []
    },
    {
      "cell_type": "code",
      "source": [
        "from ColabTurtle.Turtle import *\n",
        "\n",
        "initializeTurtle(initial_speed=7)\n",
        "colors_list = ['red', 'purple', 'blue', 'green', 'orange', 'yellow']\n",
        "bgcolor('black') # Pantalla sea de color negro\n",
        "\n",
        "for value in range(360): # Ciclo for\n",
        "  # Se ejecuta todo este bloque\n",
        "  pencolor(colors_list[value%6]) # obtenemos los índices: 0-5 y nos regresa el color que corresponda\n",
        "  width(int(value/100) + 1) # va a tener valores de 1, 2, 3 o 4\n",
        "  forward(value/1.5) #\n",
        "  left(59) #"
      ],
      "metadata": {
        "id": "Qucn6HhXjLXT"
      },
      "execution_count": null,
      "outputs": []
    },
    {
      "cell_type": "markdown",
      "source": [
        "# Seaborn"
      ],
      "metadata": {
        "id": "AoDwmxbLn766"
      }
    },
    {
      "cell_type": "code",
      "source": [
        "import numpy as np\n",
        "import seaborn as sns\n",
        "import matplotlib.pyplot as plt\n",
        "sns.set_theme(style=\"white\", context=\"talk\")"
      ],
      "metadata": {
        "id": "lVQmRG3Qooqx"
      },
      "execution_count": null,
      "outputs": []
    },
    {
      "cell_type": "code",
      "source": [
        "rs = np.random.RandomState(8)\n",
        "\n",
        "# Set up the matplotlib figure\n",
        "f, (ax1, ax2, ax3) = plt.subplots(3, 1, figsize=(7, 5), sharex=True)\n",
        "\n",
        "# Generate some sequential data\n",
        "x = np.array(list(\"ABCDEFGHIJ\"))\n",
        "y1 = np.arange(1, 11)\n",
        "sns.barplot(x=x, y=y1, palette=\"rocket\", ax=ax1)\n",
        "ax1.axhline(0, color=\"k\", clip_on=False)\n",
        "ax1.set_ylabel(\"Sequential\")\n",
        "\n",
        "# Center the data to make it diverging\n",
        "y2 = y1 - 5.5\n",
        "sns.barplot(x=x, y=y2, palette=\"vlag\", ax=ax2)\n",
        "ax2.axhline(0, color=\"k\", clip_on=False)\n",
        "ax2.set_ylabel(\"Diverging\")\n",
        "\n",
        "# Randomly reorder the data to make it qualitative\n",
        "y3 = rs.choice(y1, len(y1), replace=False)\n",
        "sns.barplot(x=x, y=y3, palette=\"deep\", ax=ax3)\n",
        "ax3.axhline(0, color=\"k\", clip_on=False)\n",
        "ax3.set_ylabel(\"Qualitative\")\n",
        "\n",
        "# Finalize the plot\n",
        "sns.despine(bottom=True)\n",
        "plt.setp(f.axes, yticks=[])\n",
        "plt.tight_layout(h_pad=2)"
      ],
      "metadata": {
        "id": "PEqFnL3rjd9C"
      },
      "execution_count": null,
      "outputs": []
    }
  ]
}