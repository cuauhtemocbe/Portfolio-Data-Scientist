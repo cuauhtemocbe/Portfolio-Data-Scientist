{
  "nbformat": 4,
  "nbformat_minor": 0,
  "metadata": {
    "colab": {
      "provenance": [],
      "authorship_tag": "ABX9TyNiwQemBAwRYKG4cYX+tgo5",
      "include_colab_link": true
    },
    "kernelspec": {
      "name": "python3",
      "display_name": "Python 3"
    },
    "language_info": {
      "name": "python"
    }
  },
  "cells": [
    {
      "cell_type": "markdown",
      "metadata": {
        "id": "view-in-github",
        "colab_type": "text"
      },
      "source": [
        "<a href=\"https://colab.research.google.com/github/cuauhtemocbe/Python-Basics/blob/main/f-strings.ipynb\" target=\"_parent\"><img src=\"https://colab.research.google.com/assets/colab-badge.svg\" alt=\"Open In Colab\"/></a>"
      ]
    },
    {
      "cell_type": "markdown",
      "source": [
        "# f-string\n",
        "\n",
        "Manera pytonica de escribir tus prints:\n",
        "- Son más legibles\n",
        "- Son más concisos"
      ],
      "metadata": {
        "id": "uLql7pUfjrRn"
      }
    },
    {
      "cell_type": "code",
      "execution_count": null,
      "metadata": {
        "id": "D4ndNAMdjfl-"
      },
      "outputs": [],
      "source": [
        "mensaje = 'Hola, mundo!'\n",
        "print(mensaje)"
      ]
    },
    {
      "cell_type": "code",
      "source": [
        "nombre = 'mundo'\n",
        "mensaje = 'Hola,'\n",
        "print(mensaje, nombre, '!')"
      ],
      "metadata": {
        "id": "mn18_q8JkHQy"
      },
      "execution_count": null,
      "outputs": []
    },
    {
      "cell_type": "code",
      "source": [
        "nombre = 'mundo'\n",
        "mensaje = 'Hola, ' + nombre + '!'\n",
        "print(mensaje)"
      ],
      "metadata": {
        "id": "j7tuNGRrj3Jw"
      },
      "execution_count": null,
      "outputs": []
    },
    {
      "cell_type": "code",
      "source": [
        "nombre = 'Cuau'\n",
        "mensaje = 'Hola, ' + nombre + '!'\n",
        "print(mensaje)"
      ],
      "metadata": {
        "id": "xF_Qvg35j94A"
      },
      "execution_count": null,
      "outputs": []
    },
    {
      "cell_type": "markdown",
      "source": [
        "## f-string"
      ],
      "metadata": {
        "id": "F7KNY1_wkmZh"
      }
    },
    {
      "cell_type": "code",
      "source": [
        "nombre = 'Cuau'\n",
        "mensaje = f'Hola, {nombre}!'\n",
        "print(nombre)"
      ],
      "metadata": {
        "id": "uJMkKsWDkBRh"
      },
      "execution_count": null,
      "outputs": []
    },
    {
      "cell_type": "code",
      "source": [
        "distancia = 384_400\n",
        "print(f'La distancia a la Luna es de {distancia} km.')"
      ],
      "metadata": {
        "id": "R7bh7o4X3hB6"
      },
      "execution_count": null,
      "outputs": []
    },
    {
      "cell_type": "markdown",
      "source": [
        "Separador de millares"
      ],
      "metadata": {
        "id": "_Oer4JAD4Fvg"
      }
    },
    {
      "cell_type": "code",
      "source": [
        "print(f'La distancia a la Luna es de {distancia:,} km.')"
      ],
      "metadata": {
        "id": "9fS5fpNq3-qe"
      },
      "execution_count": null,
      "outputs": []
    },
    {
      "cell_type": "markdown",
      "source": [
        "Configuración de decimales"
      ],
      "metadata": {
        "id": "0duUEMzc4MnQ"
      }
    },
    {
      "cell_type": "code",
      "source": [
        "pi = 3.141592\n",
        "print(f'El valor redondeado de pi es de {pi}, aunque es infinito.')"
      ],
      "metadata": {
        "id": "4-yEdwtn4FUL"
      },
      "execution_count": null,
      "outputs": []
    },
    {
      "cell_type": "code",
      "source": [
        "print(f'El valor redondeado de pi es de {pi:.4f}, aunque es infinito.')"
      ],
      "metadata": {
        "id": "4DTOLYJO44iP"
      },
      "execution_count": null,
      "outputs": []
    },
    {
      "cell_type": "markdown",
      "source": [
        "Caracteres especiales:\n",
        " \n",
        "Los caracteres especiales empiezan por una barra invertida **\\**. \n",
        "- Salto de línea: \\n\n",
        "- Tabulador: \\t"
      ],
      "metadata": {
        "id": "nwQO8mxn5isS"
      }
    },
    {
      "cell_type": "code",
      "source": [
        "nombre = 'Cuau'\n",
        "muerte = 'parca' # calaca, flaca, parca, catrina, calavera\n",
        "escenario = 'panteon'#, panteon, cementerio, cielo, más alla # \n",
        "\n",
        "mensaje = f'{nombre} programaba con alegría \\n'\n",
        "mensaje += f'cuando la {muerte} hizo compañía. \\n\\n'\n",
        "mensaje += f'Al {escenario} le llevó \\n'\n",
        "mensaje += 'porque su página web falleció. \\n\\n'\n",
        "mensaje += f'{nombre} código escribió \\n'\n",
        "mensaje += f'y la sonrisa a la {muerte} le devolvió.'\n",
        "\n",
        "print(mensaje)"
      ],
      "metadata": {
        "id": "-TeSqXFAmPTT"
      },
      "execution_count": null,
      "outputs": []
    },
    {
      "cell_type": "markdown",
      "source": [
        "# Multiple lineas f-strings"
      ],
      "metadata": {
        "id": "Hz8EX45nk4sZ"
      }
    },
    {
      "cell_type": "code",
      "source": [
        "nombre = 'Cuau'\n",
        "muerte = 'parca' # calaca, flaca, parca, catrina, calavera\n",
        "escenario = 'panteon'#, panteon, cementerio, cielo, más alla # \n",
        "\n",
        "mensaje = (\n",
        "    f'{nombre} programaba con alegría \\n'\n",
        "    f'cuando la {muerte} hizo compañía. \\n\\n'\n",
        "    f'Al {escenario} le llevó \\n'\n",
        "    'porque su página web falleció. \\n\\n'\n",
        "    f'{nombre} código escribió \\n'\n",
        "    f'y la sonrisa a la {muerte} le devolvió.'\n",
        "    )\n",
        "\n",
        "print(mensaje)"
      ],
      "metadata": {
        "id": "gAwSv6JLkgrD"
      },
      "execution_count": null,
      "outputs": []
    }
  ]
}