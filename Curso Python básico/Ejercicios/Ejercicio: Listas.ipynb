{
  "nbformat": 4,
  "nbformat_minor": 0,
  "metadata": {
    "colab": {
      "provenance": [],
      "authorship_tag": "ABX9TyOghlR8OzccqefhTGHhMads",
      "include_colab_link": true
    },
    "kernelspec": {
      "name": "python3",
      "display_name": "Python 3"
    },
    "language_info": {
      "name": "python"
    }
  },
  "cells": [
    {
      "cell_type": "markdown",
      "metadata": {
        "id": "view-in-github",
        "colab_type": "text"
      },
      "source": [
        "<a href=\"https://colab.research.google.com/github/cuauhtemocbe/Python-Basics/blob/main/Ejercicios/Ejercicio%3A%20Listas.ipynb\" target=\"_parent\"><img src=\"https://colab.research.google.com/assets/colab-badge.svg\" alt=\"Open In Colab\"/></a>"
      ]
    },
    {
      "cell_type": "markdown",
      "source": [
        "# Ejercicios con listas"
      ],
      "metadata": {
        "id": "JnAaAHKbtTkr"
      }
    },
    {
      "cell_type": "markdown",
      "source": [
        "1. Redes sociales <br>\n",
        "a) Crea una lista con el nombre de 5 redes sociales.<br> \n",
        "b) Ordena la lista <br>\n",
        "c) Imprime la lista"
      ],
      "metadata": {
        "id": "fbz409a_tWyY"
      }
    },
    {
      "cell_type": "code",
      "execution_count": null,
      "metadata": {
        "id": "d884EGfGtR3z"
      },
      "outputs": [],
      "source": []
    },
    {
      "cell_type": "markdown",
      "source": [
        "2. Dioses griegos <br>\n",
        "a) Crea una lista con los siguientes dioses griegos: Zeus, Poseidón, Hades, Hermes, Hera, Atenea, Artemisa <br>\n",
        "b) Ordena la lista <br>\n",
        "c) ¿Cuántos dioses hay en la lista? <br>\n",
        "d) Imprime el valor Atenea\n"
      ],
      "metadata": {
        "id": "smSUQ_vu75RJ"
      }
    },
    {
      "cell_type": "code",
      "source": [],
      "metadata": {
        "id": "rnC7g7hJuagx"
      },
      "execution_count": null,
      "outputs": []
    },
    {
      "cell_type": "markdown",
      "source": [
        "3. Planetas <br>\n",
        "a) Convierte el siguiente string `\"Marte|Venus|Tierra|Júpiter|Saturno\"` en una lista. Usa el método split <br>\n",
        "b) Ordena la lista <br>\n",
        "c) Crea un algoritmo para revisar si un planeta dado es gaseoso o roco. <br>\n",
        ">Los planetas **rocosos** son: Mercurio, Venus, La Tierra y Marte. Los planetas **gaseosos** son: Júpiter, Saturno, Urano y Neptuno "
      ],
      "metadata": {
        "id": "fPOaXheNtitm"
      }
    },
    {
      "cell_type": "code",
      "source": [],
      "metadata": {
        "id": "W3HTA51IuQD0"
      },
      "execution_count": null,
      "outputs": []
    },
    {
      "cell_type": "markdown",
      "source": [
        "4. Conjunto de números <br>\n",
        "a) Usa la lista `numeros_list` la cual contiene diferentes números<br>\n",
        "b) Imprime el máximo valor<br>\n",
        "c) Imprime el penúltimo valor <br>\n",
        "d) Obtén el número de veces que se repite el valor 10. Usa el método count."
      ],
      "metadata": {
        "id": "TrZK_tGWfUoB"
      }
    },
    {
      "cell_type": "code",
      "source": [
        "numeros_list = [\n",
        "    61, 95, 26, 93, 73, 74, 46, 16, 7, 12, 27, 89, 94, 46, 37, 6, 24, 7, 72,\n",
        "    25, 98, 81, 10, 16, 79, 73, 91, 74, 93, 47, 72, 50, 10, 76, 56, 7, 9, 29,\n",
        "    2, 64, 59, 99, 52, 70, 17, 62, 50, 32, 17, 22, 34, 6, 74, 43, 80, 87, 97,\n",
        "    60, 95, 76, 70, 65, 74, 50, 1, 40, 45, 78, 0, 53, 75, 70, 42, 26, 79, 92,\n",
        "    50, 32, 32, 32, 95, 27, 82, 27, 31, 11, 44, 10, 24, 80, 94, 48, 70, 20, 79,\n",
        "    33, 47, 19, 50, 60]"
      ],
      "metadata": {
        "id": "vPUvzrgwgcNr"
      },
      "execution_count": null,
      "outputs": []
    },
    {
      "cell_type": "markdown",
      "source": [
        "5. Calificaciones\n",
        "> a) Crear una lista con los siguientes números flotantes: <br> 1.67, 1.67, 1.62, 0.5, 1.45, 6.05, 7.64, 7.23, 4.44, 7.63, 4.54, 5.55, 6.87, 4.3, 4.23, 8.34, 8.88, 9.95, 9.86, 8.56 <br>\n",
        "b) Obtén el promedio redondeado a dos dígitos. Usa las funciones: len, sum, round"
      ],
      "metadata": {
        "id": "SFmwUcUDubdw"
      }
    },
    {
      "cell_type": "code",
      "source": [],
      "metadata": {
        "id": "Lwv7xYf4g_j-"
      },
      "execution_count": null,
      "outputs": []
    }
  ]
}